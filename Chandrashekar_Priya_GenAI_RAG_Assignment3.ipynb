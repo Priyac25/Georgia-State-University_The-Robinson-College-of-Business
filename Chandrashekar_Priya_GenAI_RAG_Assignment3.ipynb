{
 "cells": [
  {
   "cell_type": "code",
   "execution_count": 1,
   "id": "09e3f1bc-0436-4112-961e-d506be31557b",
   "metadata": {
    "scrolled": true
   },
   "outputs": [
    {
     "name": "stdout",
     "output_type": "stream",
     "text": [
      "Note: you may need to restart the kernel to use updated packages.\n"
     ]
    }
   ],
   "source": [
    "%pip install --quiet --upgrade langchain-text-splitters langchain-community langgraph"
   ]
  },
  {
   "cell_type": "code",
   "execution_count": 2,
   "id": "e44e066e-fd6d-4445-a843-7959b9afec35",
   "metadata": {},
   "outputs": [
    {
     "name": "stdin",
     "output_type": "stream",
     "text": [
      " ········\n"
     ]
    }
   ],
   "source": [
    "import getpass\n",
    "import os\n",
    "\n",
    "os.environ[\"LANGSMITH_TRACING\"] = \"true\"\n",
    "os.environ[\"LANGSMITH_API_KEY\"] = getpass.getpass()"
   ]
  },
  {
   "cell_type": "code",
   "execution_count": 3,
   "id": "ea387c9d-334f-4d37-83ef-471cc31a0071",
   "metadata": {},
   "outputs": [
    {
     "name": "stdout",
     "output_type": "stream",
     "text": [
      "Note: you may need to restart the kernel to use updated packages.\n"
     ]
    }
   ],
   "source": [
    "pip install -qU \"langchain[openai]\""
   ]
  },
  {
   "cell_type": "code",
   "execution_count": 4,
   "id": "6c9166e2-5e2f-4b04-9cea-4766670583d6",
   "metadata": {},
   "outputs": [
    {
     "name": "stdin",
     "output_type": "stream",
     "text": [
      "Enter API key for OpenAI:  ········\n"
     ]
    }
   ],
   "source": [
    "import getpass\n",
    "import os\n",
    "\n",
    "if not os.environ.get(\"OPENAI_API_KEY\"):\n",
    "  os.environ[\"OPENAI_API_KEY\"] = getpass.getpass(\"Enter API key for OpenAI: \")\n",
    "\n",
    "from langchain.chat_models import init_chat_model\n",
    "\n",
    "llm = init_chat_model(\"gpt-4o-mini\", model_provider=\"openai\")"
   ]
  },
  {
   "cell_type": "code",
   "execution_count": 5,
   "id": "69bc788c-a9cc-4b66-b029-1e2c6f09af96",
   "metadata": {},
   "outputs": [
    {
     "name": "stdout",
     "output_type": "stream",
     "text": [
      "Note: you may need to restart the kernel to use updated packages.\n"
     ]
    }
   ],
   "source": [
    "pip install -qU langchain-openai"
   ]
  },
  {
   "cell_type": "code",
   "execution_count": 6,
   "id": "3cc003dc-e795-4579-978b-ef9c44202fb8",
   "metadata": {},
   "outputs": [],
   "source": [
    "import getpass\n",
    "import os\n",
    "\n",
    "if not os.environ.get(\"OPENAI_API_KEY\"):\n",
    "  os.environ[\"OPENAI_API_KEY\"] = getpass.getpass(\"Enter API key for OpenAI: \")\n",
    "\n",
    "from langchain_openai import OpenAIEmbeddings\n",
    "\n",
    "embeddings = OpenAIEmbeddings(model=\"text-embedding-3-large\",\n",
    "                             dimensions=1024)"
   ]
  },
  {
   "cell_type": "code",
   "execution_count": 7,
   "id": "b1911d7a-5eb2-47e5-bf7f-7160905121c0",
   "metadata": {},
   "outputs": [
    {
     "name": "stdout",
     "output_type": "stream",
     "text": [
      "Note: you may need to restart the kernel to use updated packages.\n"
     ]
    }
   ],
   "source": [
    "pip install -qU langchain-pinecone"
   ]
  },
  {
   "cell_type": "code",
   "execution_count": 8,
   "id": "5c03cda6-b6d7-4a6b-ad58-6d580874302c",
   "metadata": {},
   "outputs": [
    {
     "name": "stderr",
     "output_type": "stream",
     "text": [
      "/opt/anaconda3/lib/python3.13/site-packages/langchain_pinecone/__init__.py:3: LangChainDeprecationWarning: As of langchain-core 0.3.0, LangChain uses pydantic v2 internally. The langchain_core.pydantic_v1 module was a compatibility shim for pydantic v1, and should no longer be used. Please update the code to import from Pydantic directly.\n",
      "\n",
      "For example, replace imports like: `from langchain_core.pydantic_v1 import BaseModel`\n",
      "with: `from pydantic import BaseModel`\n",
      "or the v1 compatibility namespace if you are working in a code base that has not been fully upgraded to pydantic 2 yet. \tfrom pydantic.v1 import BaseModel\n",
      "\n",
      "  from langchain_pinecone.vectorstores import Pinecone, PineconeVectorStore\n"
     ]
    }
   ],
   "source": [
    "from langchain_pinecone import PineconeVectorStore\n",
    "from pinecone import Pinecone\n",
    "\n",
    "pc = Pinecone(api_key = \"pcsk_7A1TPN_MS8g1LuZcvvpXAFVN9sobPRDXSH1ipWhhMNPxfp3yLmLpq9azhYDTDXn5af1qXN\")\n",
    "\n",
    "idxName = \"ebook-rag-idx\"\n",
    "\n",
    "if not pc.has_index(idxName):\n",
    "    pc.create_index_for_model(\n",
    "        name = idxName,\n",
    "        cloud = \"aws\",\n",
    "        region = \"us-east-1\",\n",
    "        embed = {\n",
    "            \"model\":\"llama-text-embed-v2\",\n",
    "            \"field_map\":{\"text\": \"chunk_text\"}\n",
    "        }\n",
    "    )\n",
    "\n",
    "\n",
    "idx = pc.Index(idxName)\n",
    "\n",
    "vecStore = PineconeVectorStore(embedding=embeddings, index=idx)"
   ]
  },
  {
   "cell_type": "code",
   "execution_count": 9,
   "id": "ff0b90a5-3653-4f38-b7f4-1a0dac2ac100",
   "metadata": {},
   "outputs": [
    {
     "name": "stdout",
     "output_type": "stream",
     "text": [
      "Note: you may need to restart the kernel to use updated packages.\n"
     ]
    }
   ],
   "source": [
    "%pip install -qU langchain-community pypdf"
   ]
  },
  {
   "cell_type": "code",
   "execution_count": 10,
   "id": "10ea6b88-76db-40c7-a64b-d24af486b8bd",
   "metadata": {},
   "outputs": [],
   "source": [
    "import bs4\n",
    "from langchain import hub\n",
    "from langchain_community.document_loaders import PyPDFLoader\n",
    "from langchain_core.documents import Document\n",
    "from langchain_text_splitters import RecursiveCharacterTextSplitter\n",
    "from langgraph.graph import START, StateGraph\n",
    "from typing_extensions import List, TypedDict\n",
    "\n",
    "filePath = \"/Users/priyachandrashekar/Downloads/ADarkNightsWork.pdf\"\n",
    "loader = PyPDFLoader(\n",
    "    filePath,\n",
    "    mode = \"single\",\n",
    ")\n",
    "\n",
    "ebook = loader.load()"
   ]
  },
  {
   "cell_type": "code",
   "execution_count": 11,
   "id": "86cd4ccb-eb71-4671-b2f1-62cd1c8275eb",
   "metadata": {},
   "outputs": [],
   "source": [
    "txtSplit = RecursiveCharacterTextSplitter(chunk_size=1000, chunk_overlap=200)\n",
    "splits = txtSplit.split_documents(ebook)\n",
    "\n",
    "_ = vecStore.add_documents(documents=splits)\n",
    "\n",
    "prompt = hub.pull(\"rlm/rag-prompt\")"
   ]
  },
  {
   "cell_type": "code",
   "execution_count": 12,
   "id": "aa85ebff-7f9c-4d68-83af-9a562530093a",
   "metadata": {},
   "outputs": [],
   "source": [
    "class State(TypedDict):\n",
    "    question: str\n",
    "    context: List[Document]\n",
    "    answer: str\n",
    "\n",
    "def retrieve(s: State):\n",
    "    docs = vecStore.similarity_search(s[\"question\"])\n",
    "    return {\"context\": docs}\n",
    "\n",
    "def generate(s: State):\n",
    "    content = \"\\n\\n\".join(doc.page_content for doc in s[\"context\"])\n",
    "    msg = prompt.invoke({\"question\": s[\"question\"], \"context\": content})\n",
    "    res = llm.invoke(msg)\n",
    "    return {\"answer\": res.content}"
   ]
  },
  {
   "cell_type": "code",
   "execution_count": 13,
   "id": "3d580abb-d648-4296-87c6-bc1b301f4185",
   "metadata": {},
   "outputs": [],
   "source": [
    "graphBuilder = StateGraph(State).add_sequence([retrieve, generate])\n",
    "graphBuilder.add_edge(START, \"retrieve\")\n",
    "graph = graphBuilder.compile()"
   ]
  },
  {
   "cell_type": "code",
   "execution_count": 14,
   "id": "70e0a09e-3d9c-41db-a7cd-1811dcedb4e1",
   "metadata": {},
   "outputs": [
    {
     "name": "stdout",
     "output_type": "stream",
     "text": [
      "The theme of the book revolves around the moral struggles of individuals facing guilt, the pursuit of truth, and the weight of family responsibilities. It explores the conflicts between personal desires, societal expectations, and the consequences of one's actions. The narrative delves into the complexity of human emotions and the search for redemption.\n"
     ]
    }
   ],
   "source": [
    "response = graph.invoke({\"question\": \"What is the theme of the book?\"})\n",
    "print(response[\"answer\"])"
   ]
  },
  {
   "cell_type": "code",
   "execution_count": 15,
   "id": "c88706f1-b03f-477b-9bec-2f289d8a9c9a",
   "metadata": {},
   "outputs": [
    {
     "name": "stdout",
     "output_type": "stream",
     "text": [
      "The book ends with Ellinor softly asking Miss Monro to take her home after a significant ceremony. This moment signifies her transition and emotional state as she is led home, akin to being blind. The ending evokes themes of helplessness and the passage from youth to adulthood.\n"
     ]
    }
   ],
   "source": [
    "response = graph.invoke({\"question\": \"How does the book end?\"})\n",
    "print(response[\"answer\"])"
   ]
  },
  {
   "cell_type": "code",
   "execution_count": 16,
   "id": "cd3e7d40-c116-4871-a6b7-901b71252d09",
   "metadata": {},
   "outputs": [
    {
     "name": "stdout",
     "output_type": "stream",
     "text": [
      "Miss Monro is the daughter of a precentor of a cathedral and has a reluctance to work as a teacher for wealthy tradesmen, preferring to be associated with the canons' families. She is involved in arranging matters for Ellinor, who is in a depressed state, and has a keen interest in inviting social connections to their gatherings. Miss Monro also has opportunities for patronage from the Chapter, including an offer for a small house at a nominal rent.\n"
     ]
    }
   ],
   "source": [
    "response = graph.invoke({\"question\": \"Who is Miss Monro?\"})\n",
    "print(response[\"answer\"])"
   ]
  },
  {
   "cell_type": "code",
   "execution_count": 17,
   "id": "cc40d92c-1bee-4c45-a8c0-bca5022b0e3b",
   "metadata": {},
   "outputs": [
    {
     "name": "stdout",
     "output_type": "stream",
     "text": [
      "The author of the book \"A Dark Night's Work\" is Elizabeth Gaskell.\n"
     ]
    }
   ],
   "source": [
    "response = graph.invoke({\"question\": \"Who is the author of the book?\"})\n",
    "print(response[\"answer\"])"
   ]
  },
  {
   "cell_type": "code",
   "execution_count": null,
   "id": "913a39a6-e3b8-4391-aadc-02c4f05f5fd9",
   "metadata": {},
   "outputs": [],
   "source": []
  },
  {
   "cell_type": "code",
   "execution_count": null,
   "id": "422110ef-741e-477e-bed4-ea25cea59959",
   "metadata": {},
   "outputs": [],
   "source": []
  }
 ],
 "metadata": {
  "kernelspec": {
   "display_name": "Python [conda env:base] *",
   "language": "python",
   "name": "conda-base-py"
  },
  "language_info": {
   "codemirror_mode": {
    "name": "ipython",
    "version": 3
   },
   "file_extension": ".py",
   "mimetype": "text/x-python",
   "name": "python",
   "nbconvert_exporter": "python",
   "pygments_lexer": "ipython3",
   "version": "3.13.5"
  }
 },
 "nbformat": 4,
 "nbformat_minor": 5
}
