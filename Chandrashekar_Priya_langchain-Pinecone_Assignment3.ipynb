{
 "cells": [
  {
   "cell_type": "code",
   "execution_count": null,
   "metadata": {},
   "outputs": [],
   "source": []
  },
  {
   "cell_type": "markdown",
   "metadata": {
    "colab_type": "text",
    "id": "view-in-github"
   },
   "source": [
    "<a href=\"https://colab.research.google.com/github/rabbitmetrics/langchain-13-min/blob/main/notebooks/langchain-13-min.ipynb\" target=\"_parent\"><img src=\"https://colab.research.google.com/assets/colab-badge.svg\" alt=\"Open In Colab\"/></a>"
   ]
  },
  {
   "cell_type": "code",
   "execution_count": 1,
   "metadata": {
    "id": "50dvxjqCFmhF"
   },
   "outputs": [],
   "source": [
    "# Import Libraries\n",
    "import os\n",
    "from secret_key import openapi_key\n",
    "from langchain_openai import OpenAI\n",
    "from langchain.prompts import PromptTemplate\n",
    "from langchain.chains import LLMChain\n",
    "from langchain.chains import SequentialChain"
   ]
  },
  {
   "cell_type": "code",
   "execution_count": 2,
   "metadata": {
    "id": "C7RnyUOCJWmk"
   },
   "outputs": [
    {
     "name": "stdout",
     "output_type": "stream",
     "text": [
      "\n",
      "Large language models are computer programs that use vast amounts of data to generate human-like text and complete tasks such as translation and summarization.\n"
     ]
    },
    {
     "name": "stderr",
     "output_type": "stream",
     "text": [
      "/var/folders/zd/x0p6cdlx0sl5rrch3kzvrmkm0000gn/T/ipykernel_50415/791033266.py:19: LangChainDeprecationWarning: The class `LLMChain` was deprecated in LangChain 0.1.17 and will be removed in 1.0. Use :meth:`~RunnableSequence, e.g., `prompt | llm`` instead.\n",
      "  name_chain = LLMChain(llm=llm, prompt=prompt_template_name, output_key=\"restaurant_name\")\n"
     ]
    },
    {
     "name": "stdout",
     "output_type": "stream",
     "text": [
      "{'cuisine': 'Indian', 'restaurant_name': '\\n\\n\"Spice Kingdom: A Taste of India\"'}\n",
      "{'cuisine': 'Indian', 'restaurant_name': '\\n\\n\"Maharaja\\'s Palace\"', 'menu_items': '\\n\\n1. Tandoori Chicken\\n2. Butter Chicken\\n3. Chicken Tikka Masala\\n4. Lamb Rogan Josh\\n5. Vegetable Biryani\\n6. Palak Paneer\\n7. Dal Makhani\\n8. Naan Bread\\n9. Samosas\\n10. Mango Lassi\\n\\n\"Tandoori Chicken, Butter Chicken, Chicken Tikka Masala, Lamb Rogan Josh, Vegetable Biryani, Palak Paneer, Dal Makhani, Naan Bread, Samosas, Mango Lassi\"'}\n"
     ]
    }
   ],
   "source": [
    "# Load environment variables\n",
    "\n",
    "os.environ['OPENAI_API_KEY'] = openapi_key\n",
    "\n",
    "# Run basic query with OpenAI wrapper\n",
    "\n",
    "llm = OpenAI (temperature=0.7)\n",
    "\n",
    "output = llm.invoke(\"explain large language models in one sentence\")\n",
    "print(output)\n",
    "\n",
    "# Chain 1: Restaurant Name\n",
    "\n",
    "prompt_template_name = PromptTemplate(\n",
    "    input_variables=['cuisine'],\n",
    "    template=\"I want to open a restaurant for {cuisine} food. Suggest a fancy name for this.\"\n",
    ")\n",
    "\n",
    "name_chain = LLMChain(llm=llm, prompt=prompt_template_name, output_key=\"restaurant_name\")\n",
    "\n",
    "print(name_chain.invoke({'cuisine': 'Indian'}))\n",
    "\n",
    "# Chain 2: Menu Items\n",
    "prompt_template_items = PromptTemplate(\n",
    "    input_variables=['restaurant_name'],\n",
    "    template=\"Suggest some menu items for {restaurant_name}. Return it as a comma separated string\"\n",
    ")\n",
    "\n",
    "food_items_chain = LLMChain(llm=llm, prompt=prompt_template_items, output_key=\"menu_items\")\n",
    "\n",
    "\n",
    "chain = SequentialChain(\n",
    "    chains=[name_chain, food_items_chain],\n",
    "    input_variables=['cuisine'],\n",
    "    output_variables=['restaurant_name', \"menu_items\"]\n",
    ")\n",
    "\n",
    "response = chain.invoke({'cuisine': 'Indian'})\n",
    "\n",
    "print(response)\n"
   ]
  },
  {
   "cell_type": "code",
   "execution_count": 3,
   "metadata": {
    "id": "JtHgQ5XpJmgi"
   },
   "outputs": [],
   "source": [
    "# import schema for chat messages and ChatOpenAI in order to query chatmodels GPT-3.5-turbo or GPT-4\n",
    "\n",
    "from langchain.schema import (\n",
    "    AIMessage,\n",
    "    HumanMessage,\n",
    "    SystemMessage\n",
    ")\n",
    "from langchain_openai import ChatOpenAI"
   ]
  },
  {
   "cell_type": "code",
   "execution_count": 4,
   "metadata": {
    "id": "yrfYfKfdJyyF"
   },
   "outputs": [
    {
     "name": "stdout",
     "output_type": "stream",
     "text": [
      "Sure! Here is an example Python script that trains a simple neural network on simulated data using the TensorFlow library:\n",
      "\n",
      "```python\n",
      "import numpy as np\n",
      "import tensorflow as tf\n",
      "\n",
      "# Generate simulated data\n",
      "np.random.seed(0)\n",
      "X = np.random.rand(1000, 2)\n",
      "y = np.random.randint(0, 2, (1000, 1))\n",
      "\n",
      "# Define the neural network architecture\n",
      "model = tf.keras.models.Sequential([\n",
      "    tf.keras.layers.Dense(64, activation='relu', input_shape=(2,)),\n",
      "    tf.keras.layers.Dense(64, activation='relu'),\n",
      "    tf.keras.layers.Dense(1, activation='sigmoid')\n",
      "])\n",
      "\n",
      "# Compile the model\n",
      "model.compile(optimizer='adam', loss='binary_crossentropy', metrics=['accuracy'])\n",
      "\n",
      "# Train the model\n",
      "model.fit(X, y, epochs=10, batch_size=32)\n",
      "\n",
      "# Evaluate the model\n",
      "loss, accuracy = model.evaluate(X, y)\n",
      "print(f'Loss: {loss}, Accuracy: {accuracy}')\n",
      "```\n",
      "\n",
      "In this script:\n",
      "- We first generate simulated data with 2 features and binary labels.\n",
      "- We define a simple neural network with 2 hidden layers of 64 units each and a final output layer with a sigmoid activation function.\n",
      "- We compile the model using the Adam optimizer and binary cross-entropy loss.\n",
      "- We train the model on the simulated data for 10 epochs.\n",
      "- Finally, we evaluate the model on the training data and print the loss and accuracy.\n",
      "\n",
      "You can run this script in a Python environment with TensorFlow installed to train the neural network on the simulated data.\n"
     ]
    }
   ],
   "source": [
    "chat = ChatOpenAI(model_name=\"gpt-3.5-turbo\",temperature=0.3)\n",
    "messages = [\n",
    "    SystemMessage(content=\"You are an expert data scientist\"),\n",
    "    HumanMessage(content=\"Write a Python script that trains a neural network on simulated data \")\n",
    "]\n",
    "response=chat.invoke(messages)\n",
    "\n",
    "print(response.content,end='\\n')"
   ]
  },
  {
   "cell_type": "code",
   "execution_count": 5,
   "metadata": {
    "id": "2grf7I8AJ_hK"
   },
   "outputs": [],
   "source": [
    "# Import prompt and define PromptTemplate\n",
    "\n",
    "from langchain import PromptTemplate\n",
    "\n",
    "template = \"\"\"\n",
    "You are an expert data scientist with an expertise in building deep learning models. \n",
    "Explain the concept of {concept} in a couple of lines\n",
    "\"\"\"\n",
    "\n",
    "prompt = PromptTemplate(\n",
    "    input_variables=[\"concept\"],\n",
    "    template=template,\n",
    ")"
   ]
  },
  {
   "cell_type": "code",
   "execution_count": 6,
   "metadata": {
    "id": "vcz7Q9Y-KFvI"
   },
   "outputs": [
    {
     "data": {
      "text/plain": [
       "'\\nAn autoencoder is a type of neural network that is trained to reconstruct its input data. It consists of an encoder and decoder, with the encoder learning to compress the input data into a lower-dimensional representation, and the decoder learning to reconstruct the original data from the compressed representation. This unsupervised learning technique is often used for dimensionality reduction, data denoising, and anomaly detection.'"
      ]
     },
     "execution_count": 6,
     "metadata": {},
     "output_type": "execute_result"
    }
   ],
   "source": [
    "# Run LLM with PromptTemplate\n",
    "\n",
    "llm.invoke(prompt.format(concept=\"autoencoder\"))"
   ]
  },
  {
   "cell_type": "code",
   "execution_count": 7,
   "metadata": {
    "id": "dm78i-rUKXIB"
   },
   "outputs": [
    {
     "name": "stdout",
     "output_type": "stream",
     "text": [
      "{'concept': 'autoencoder', 'text': '\\nAutoencoders are neural networks that are trained to reconstruct their input data. They consist of an encoder that compresses the input data into a lower dimensional representation, and a decoder that reconstructs the original data from the compressed representation. This allows for unsupervised learning of feature representations and can be used for tasks such as data compression, anomaly detection, and data denoising. '}\n"
     ]
    }
   ],
   "source": [
    "# Import LLMChain and define chain with language model and prompt as arguments.\n",
    "\n",
    "from langchain.chains import LLMChain\n",
    "chain = LLMChain(llm=llm, prompt=prompt)\n",
    "\n",
    "# Run the chain only specifying the input variable.\n",
    "print(chain.invoke(\"autoencoder\"))"
   ]
  },
  {
   "cell_type": "code",
   "execution_count": 8,
   "metadata": {
    "id": "B6MF4-nMKul3"
   },
   "outputs": [],
   "source": [
    "# Define a second prompt \n",
    "\n",
    "second_prompt = PromptTemplate(\n",
    "    input_variables=[\"ml_concept\"],\n",
    "    template=\"Turn the concept description of {ml_concept} and explain it to me like I'm five in 500 words\",\n",
    ")\n",
    "chain_two = LLMChain(llm=llm, prompt=second_prompt)"
   ]
  },
  {
   "cell_type": "code",
   "execution_count": 9,
   "metadata": {
    "id": "SkJKFyk1K-MO"
   },
   "outputs": [
    {
     "name": "stdout",
     "output_type": "stream",
     "text": [
      "{'input': 'autoencoder', 'output': \"\\n\\nImagine you have a big box of toys, but you can't fit all of them into your small toy chest. So you decide to pick out your favorite toys and put them into the chest, leaving out the ones you don't play with as much.\\n\\nNow, let's say your friend comes over and wants to play with all of your toys. But you don't have enough space in your chest to fit everything back in. So you have to decide which toys to take out to make room for the other ones. This is kind of like what an autoencoder does.\\n\\nAn autoencoder is like a big toy box for data. It takes in a lot of information, like pictures or numbers, and tries to fit it into a smaller space. Just like you had to pick your favorite toys to fit in your chest, the autoencoder chooses the most important parts of the data to keep and throws out the less important parts.\\n\\nBut the cool thing is, the autoencoder doesn't just throw out the extra information. It actually learns how to compress the data in a way that it can still recreate the original information. It does this by using a special type of math called a neural network, which is like a really cool calculator that can learn and make decisions.\\n\\nSo now\"}\n"
     ]
    }
   ],
   "source": [
    "# Define a sequential chain using the two chains above: the second chain takes the output of the first chain as input\n",
    "\n",
    "from langchain.chains import SimpleSequentialChain\n",
    "overall_chain = SimpleSequentialChain(chains=[chain, chain_two], verbose=False)\n",
    "\n",
    "# Run the chain specifying only the input variable for the first chain.\n",
    "explanation = overall_chain.invoke(\"autoencoder\")\n",
    "print(explanation)"
   ]
  },
  {
   "cell_type": "code",
   "execution_count": 10,
   "metadata": {
    "id": "mDDu1B_SLQls"
   },
   "outputs": [
    {
     "name": "stderr",
     "output_type": "stream",
     "text": [
      "Created a chunk of size 1163, which is longer than the specified 1000\n",
      "Created a chunk of size 1015, which is longer than the specified 1000\n"
     ]
    },
    {
     "name": "stdout",
     "output_type": "stream",
     "text": [
      "[Document(metadata={'source': './state_of_the_union.txt'}, page_content='Madame Speaker, Vice President Biden, members of Congress, distinguished guests, and fellow Americans:\\n\\nOur Constitution declares that from time to time, the president shall give to Congress information about the state of our union. For 220 years, our leaders have fulfilled this duty. They have done so during periods of prosperity and tranquility. And they have done so in the midst of war and depression; at moments of great strife and great struggle.'), Document(metadata={'source': './state_of_the_union.txt'}, page_content=\"It's tempting to look back on these moments and assume that our progress was inevitable, that America was always destined to succeed. But when the Union was turned back at Bull Run and the Allies first landed at Omaha Beach, victory was very much in doubt. When the market crashed on Black Tuesday and civil rights marchers were beaten on Bloody Sunday, the future was anything but certain. These were times that tested the courage of our convictions and the strength of our union. And despite all our divisions and disagreements, our hesitations and our fears, America prevailed because we chose to move forward as one nation and one people.\\n\\nAgain, we are tested. And again, we must answer history's call.\"), Document(metadata={'source': './state_of_the_union.txt'}, page_content=\"One year ago, I took office amid two wars, an economy rocked by severe recession, a financial system on the verge of collapse and a government deeply in debt. Experts from across the political spectrum warned that if we did not act, we might face a second depression. So we acted immediately and aggressively. And one year later, the worst of the storm has passed.\\n\\nBut the devastation remains. One in 10 Americans still cannot find work. Many businesses have shuttered. Home values have declined. Small towns and rural communities have been hit especially hard. For those who had already known poverty, life has become that much harder.\\n\\nThis recession has also compounded the burdens that America's families have been dealing with for decades -- the burden of working harder and longer for less, of being unable to save enough to retire or help kids with college.\"), Document(metadata={'source': './state_of_the_union.txt'}, page_content=\"So I know the anxieties that are out there right now. They're not new. These struggles are the reason I ran for president. These struggles are what I've witnessed for years in places like Elkhart, Ind., and Galesburg, Ill. I hear about them in the letters that I read each night. The toughest to read are those written by children asking why they have to move from their home, or when their mom or dad will be able to go back to work.\\n\\nFor these Americans and so many others, change has not come fast enough. Some are frustrated; some are angry. They don't understand why it seems like bad behavior on Wall Street is rewarded but hard work on Main Street isn't, or why Washington has been unable or unwilling to solve any of our problems. They are tired of the partisanship and the shouting and the pettiness. They know we can't afford it. Not now.\"), Document(metadata={'source': './state_of_the_union.txt'}, page_content='So we face big and difficult challenges. And what the American people hope what they deserve is for all of us, Democrats and Republicans, to work through our differences, to overcome the numbing weight of our politics. For while the people who sent us here have different backgrounds, different stories and different beliefs, the anxieties they face are the same. The aspirations they hold are shared: a job that pays the bills, a chance to get ahead. Most of all, the ability to give their children a better life.\\n\\nYou know what else they share? They share a stubborn resilience in the face of adversity. After one of the most difficult years in our history, they remain busy building cars and teaching kids, starting businesses and going back to school. They\\'re coaching Little League and helping their neighbors. As one woman wrote me, \"We are strained but hopeful, struggling but encouraged.\"'), Document(metadata={'source': './state_of_the_union.txt'}, page_content=\"It is because of this spirit, this great decency and great strength that I have never been more hopeful about America's future than I am tonight. Despite our hardships, our union is strong. We do not give up. We do not quit. We do not allow fear or division to break our spirit. In this new decade, it's time the American people get a government that matches their decency, that embodies their strength.\\n\\nAnd tonight, I'd like to talk about how together, we can deliver on that promise.\\n\\nIt begins with our economy.\\n\\nOur most urgent task upon taking office was to shore up the same banks that helped cause this crisis. It was not easy to do. And if there's one thing that has unified Democrats and Republicans, it's that we all hated the bank bailout. I hated it. You hated it. It was about as popular as a root canal.\"), Document(metadata={'source': './state_of_the_union.txt'}, page_content=\"But when I ran for president, I promised I wouldn't just do what was popular -- I would do what was necessary. And if we had allowed the meltdown of the financial system, unemployment might be double what it is today. More businesses would certainly have closed. More homes would have surely been lost.\\n\\nSo I supported the last administration's efforts to create the financial rescue program. And when we took the program over, we made it more transparent and accountable. As a result, the markets are now stabilized, and we have recovered most of the money we spent on the banks.\\n\\nTo recover the rest, I have proposed a fee on the biggest banks. I know Wall Street isn't keen on this idea, but if these firms can afford to hand out big bonuses again, they can afford a modest fee to pay back the taxpayers who rescued them in their time of need.\"), Document(metadata={'source': './state_of_the_union.txt'}, page_content=\"As we stabilized the financial system, we also took steps to get our economy growing again, save as many jobs as possible and help Americans who had become unemployed.\\n\\nThat's why we extended or increased unemployment benefits for more than 18 million Americans, made health insurance 65 percent cheaper for families who get their coverage through COBRA and passed 25 different tax cuts.\\n\\nLet me repeat: we cut taxes. We cut taxes for 95 percent of working families. We cut taxes for small businesses. We cut taxes for first-time homebuyers. We cut taxes for parents trying to care for their children. We cut taxes for 8 million Americans paying for college. As a result, millions of Americans had more to spend on gas, and food and other necessities, all of which helped businesses keep more workers. And we haven't raised income taxes by a single dime on a single person. Not a single dime.\"), Document(metadata={'source': './state_of_the_union.txt'}, page_content=\"Because of the steps we took, there are about 2 million Americans working right now who would otherwise be unemployed -- 200,000 work in construction and clean energy, 300,000 are teachers and other education workers, tens of thousands are cops, firefighters, correctional officers and first responders. And we are on track to add another one-and-a-half-million jobs to this total by the end of the year.\\n\\nThe plan that has made all of this possible, from the tax cuts to the jobs, is the Recovery Act. That's right -- the Recovery Act, also known as the stimulus bill. Economists on the left and the right say that this bill has helped saved jobs and avert disaster. But you don't have to take their word for it.\\n\\nTalk to the small business in Phoenix that will triple its work force because of the Recovery Act.\"), Document(metadata={'source': './state_of_the_union.txt'}, page_content=\"Talk to the window manufacturer in Philadelphia who said he used to be skeptical about the Recovery Act, until he had to add two more work shifts just because of the business it created.\\n\\nTalk to the single teacher raising two kids who was told by her principal in the last week of school that because of the Recovery Act, she wouldn't be laid off after all.\\n\\nThere are stories like this all across America. And after two years of recession, the economy is growing again. Retirement funds have started to gain back some of their value. Businesses are beginning to invest again, and slowly some are starting to hire again.\\n\\nBut I realize that for every success story, there are other stories, of men and women who wake up with the anguish of not knowing where their next paycheck will come from -- who send out resumes week after week and hear nothing in response. That is why jobs must be our number one focus in 2010, and that is why I am calling for a new jobs bill tonight.\"), Document(metadata={'source': './state_of_the_union.txt'}, page_content=\"Now, the true engine of job creation in this country will always be America's businesses. But government can create the conditions necessary for businesses to expand and hire more workers.\\n\\nWe should start where most new jobs do -- in small businesses, companies that begin when an entrepreneur takes a chance on a dream or a worker decides it's time she became her own boss.\\n\\nThrough sheer grit and determination, these companies have weathered the recession and are ready to grow. But when you talk to small business owners in places like Allentown, Pa., or Elyria, Ohio, you find out that even though banks on Wall Street are lending again, they are mostly lending to bigger companies. But financing remains difficult for small business owners across the country.\"), Document(metadata={'source': './state_of_the_union.txt'}, page_content=\"So tonight, I'm proposing that we take $30 billion of the money Wall Street banks have repaid and use it to help community banks give small businesses the credit they need to stay afloat. I am also proposing a new small business tax credit -- one that will go to over 1 million small businesses who hire new workers or raise wages. While we're at it, let's also eliminate all capital gains taxes on small business investment and provide a tax incentive for all businesses, large and small, to invest in new plants and equipment.\\n\\nNext, we can put Americans to work today building the infrastructure of tomorrow. From the first railroads to the interstate highway system, our nation has always been built to compete. There's no reason Europe or China should have the fastest trains or the new factories that manufacture clean energy products.\"), Document(metadata={'source': './state_of_the_union.txt'}, page_content=\"Tomorrow, I'll visit Tampa, Fla., where workers will soon break ground on a new high-speed railroad funded by the Recovery Act. There are projects like that all across this country that will create jobs and help our nation move goods, services and information. We should put more Americans to work building clean energy facilities and give rebates to Americans who make their homes more energy efficient, which supports clean energy jobs. And to encourage these and other businesses to stay within our borders, it's time to finally slash the tax breaks for companies that ship our jobs overseas and give those tax breaks to companies that create jobs in the United States of America.\\n\\nThe House has passed a jobs bill that includes some of these steps. As the first order of business this year, I urge the Senate to do the same. People are out of work. They are hurting. They need our help. And I want a jobs bill on my desk without delay.\"), Document(metadata={'source': './state_of_the_union.txt'}, page_content=\"But the truth is, these steps still won't make up for the 7 million jobs we've lost over the last two years. The only way to move to full employment is to lay a new foundation for long-term economic growth and finally address the problems that America's families have confronted for years.\\n\\nWe cannot afford another so-called economic expansion like the one from last decade -- what some call the lost decade -- where jobs grew more slowly than during any prior expansion, where the income of the average American household declined while the cost of health care and tuition reached record highs, where prosperity was built on a housing bubble and financial speculation.\\n\\nFrom the day I took office, I have been told that addressing our larger challenges is too ambitious -- that such efforts would be too contentious, that our political system is too gridlocked and that we should just put things on hold for a while.\\n\\nFor those who make these claims, I have one simple question:\"), Document(metadata={'source': './state_of_the_union.txt'}, page_content=\"How long should we wait? How long should America put its future on hold?\\n\\nYou see, Washington has been telling us to wait for decades, even as the problems have grown worse. Meanwhile, China's not waiting to revamp its economy; Germany's not waiting; India's not waiting. These nations aren't standing still. These nations aren't playing for second place. They're putting more emphasis on math and science. They're rebuilding their infrastructure. They are making serious investments in clean energy because they want those jobs.\\n\\nWell I do not accept second place for the United States of America. As hard as it may be, as uncomfortable and contentious as the debates may be, it's time to get serious about fixing the problems that are hampering our growth.\"), Document(metadata={'source': './state_of_the_union.txt'}, page_content=\"One place to start is serious financial reform. Look, I am not interested in punishing banks, I'm interested in protecting our economy. A strong, healthy financial market makes it possible for businesses to access credit and create new jobs. It channels the savings of families into investments that raise incomes. But that can only happen if we guard against the same recklessness that nearly brought down our entire economy.\\n\\nWe need to make sure consumers and middle class families have the information they need to make financial decisions. We can't allow financial institutions, including those that take your deposits, to take risks that threaten the whole economy.\\n\\nThe House has already passed financial reform with many of these changes. And the lobbyists are already trying to kill it. Well, we cannot let them win this fight. And if the bill that ends up on my desk does not meet the test of real reform, I will send it back.\"), Document(metadata={'source': './state_of_the_union.txt'}, page_content=\"Next, we need to encourage American innovation. Last year, we made the largest investment in basic research funding in history -- an investment that could lead to the world's cheapest solar cells or treatment that kills cancer cells but leaves healthy ones untouched. And no area is more ripe for such innovation than energy. You can see the results of last year's investment in clean energy -- in the North Carolina company that will create 1,200 jobs nationwide helping to make advanced batteries, or in the California business that will put 1,000 people to work making solar panels.\"), Document(metadata={'source': './state_of_the_union.txt'}, page_content='But to create more of these clean energy jobs, we need more production, more efficiency, more incentives. That means building a new generation of safe, clean nuclear power plants in this country. It means making tough decisions about opening new offshore areas for oil and gas development. It means continued investment in advanced biofuels and clean coal technologies. And yes, it means passing a comprehensive energy and climate bill with incentives that will finally make clean energy the profitable kind of energy in America.'), Document(metadata={'source': './state_of_the_union.txt'}, page_content='I am grateful to the House for passing such a bill last year. This year, I am eager to help advance the bipartisan effort in the Senate. I know there have been questions about whether we can afford such changes in a tough economy, and I know that there are those who disagree with the overwhelming scientific evidence on climate change. But even if you doubt the evidence, providing incentives for energy efficiency and clean energy are the right thing to do for our future -- because the nation that leads the clean energy economy will be the nation that leads the global economy. And America must be that nation.'), Document(metadata={'source': './state_of_the_union.txt'}, page_content=\"Third, we need to export more of our goods. Because the more products we make and sell to other countries, the more jobs we support right here in America. So tonight, we set a new goal: We will double our exports over the next five years, an increase that will support 2 million jobs in America. To help meet this goal, we're launching a national export initiative that will help farmers and small businesses increase their exports and reform export controls consistent with national security.\"), Document(metadata={'source': './state_of_the_union.txt'}, page_content=\"We have to seek new markets aggressively, just as our competitors are. If America sits on the sidelines while other nations sign trade deals, we will lose the chance to create jobs on our shores. But realizing those benefits also means enforcing those agreements so our trading partners play by the rules. And that's why we will continue to shape a Doha trade agreement that opens global markets, and why we will strengthen our trade relations in Asia and with key partners like South Korea, Panama and Colombia.\\n\\nFourth, we need to invest in the skills and education of our people.\"), Document(metadata={'source': './state_of_the_union.txt'}, page_content='This year, we have broken through the stalemate between left and right by launching a national competition to improve our schools. The idea here is simple: Instead of rewarding failure, we only reward success. Instead of funding the status quo, we only invest in reform -- reform that raises student achievement, inspires students to excel in math and science, and turns around failing schools that steal the future of too many young Americans, from rural communities to inner cities. In the 21st century, one of the best anti-poverty programs is a world-class education. In this country, the success of our children cannot depend more on where they live than their potential.'), Document(metadata={'source': './state_of_the_union.txt'}, page_content=\"When we renew the Elementary and Secondary Education Act, we will work with Congress to expand these reforms to all 50 states. Still, in this economy, a high school diploma no longer guarantees a good job. I urge the Senate to follow the House and pass a bill that will revitalize our community colleges, which are a career pathway to the children of so many working families. To make college more affordable, this bill will finally end the unwarranted taxpayer subsidies that go to banks for student loans. Instead, let's take that money and give families a $10,000 tax credit for four years of college and increase Pell Grants. And let's tell another 1 million students that when they graduate, they will be required to pay only 10 percent of their income on student loans, and all of their debt will be forgiven after 20 years -- and forgiven after 10 years if they choose a career in public service. Because in the United States of America, no one should go broke because they chose to go to college. And it's time for colleges and universities to get serious about cutting their own costs -- because they too have a responsibility to help solve this problem.\"), Document(metadata={'source': './state_of_the_union.txt'}, page_content=\"Now, the price of college tuition is just one of the burdens facing the middle class. That's why last year I asked Vice President Biden to chair a task force on middle class families. That's why we're nearly doubling the child care tax credit, and making it easier to save for retirement by giving every worker access to a retirement account and expanding the tax credit for those who start a nest egg. That's why we're working to lift the value of a family's single largest investment -- their home. The steps we took last year to shore up the housing market have allowed millions of Americans to take out new loans and save an average of $1,500 on mortgage payments. This year, we will step up refinancing so that homeowners can move into more affordable mortgages. And it is precisely to relieve the burden on middle-class families that we still need health insurance reform.\"), Document(metadata={'source': './state_of_the_union.txt'}, page_content=\"Now let's be clear -- I did not choose to tackle this issue to get some legislative victory under my belt. And by now it should be fairly obvious that I didn't take on health care because it was good politics.\\n\\nI took on health care because of the stories I've heard from Americans with pre-existing conditions whose lives depend on getting coverage, patients who've been denied coverage and families -- even those with insurance -- who are just one illness away from financial ruin.\"), Document(metadata={'source': './state_of_the_union.txt'}, page_content=\"After nearly a century of trying, we are closer than ever to bringing more security to the lives of so many Americans. The approach we've taken would protect every American from the worst practices of the insurance industry. It would give small businesses and uninsured Americans a chance to choose an affordable health care plan in a competitive market. It would require every insurance plan to cover preventive care. And by the way, I want to acknowledge our first lady, Michelle Obama, who this year is creating a national movement to tackle the epidemic of childhood obesity and make our kids healthier.\"), Document(metadata={'source': './state_of_the_union.txt'}, page_content=\"Our approach would preserve the right of Americans who have insurance to keep their doctor and their plan. It would reduce costs and premiums for millions of families and businesses. And according to the Congressional Budget Office -- the independent organization that both parties have cited as the official scorekeeper for Congress -- our approach would bring down the deficit by as much as $1 trillion over the next two decades.\\n\\nStill, this is a complex issue, and the longer it was debated, the more skeptical people became. I take my share of the blame for not explaining it more clearly to the American people. And I know that with all the lobbying and horse trading, this process left most Americans wondering what's in it for them.\"), Document(metadata={'source': './state_of_the_union.txt'}, page_content=\"But I also know this problem is not going away. By the time I'm finished speaking tonight, more Americans will have lost their health insurance. Millions will lose it this year. Our deficit will grow. Premiums will go up. Patients will be denied the care they need. Small business owners will continue to drop coverage altogether. I will not walk away from these Americans and neither should the people in this chamber.\"), Document(metadata={'source': './state_of_the_union.txt'}, page_content=\"As temperatures cool, I want everyone to take another look at the plan we've proposed. There's a reason why many doctors, nurses and health care experts who know our system best consider this approach a vast improvement over the status quo. But if anyone from either party has a better approach that will bring down premiums, bring down the deficit, cover the uninsured, strengthen Medicare for seniors and stop insurance company abuses, let me know. Here's what I ask of Congress, though: Do not walk away from reform. Not now. Not when we are so close. Let us find a way to come together and finish the job for the American people.\\n\\nNow, even as health care reform would reduce our deficit, it's not enough to dig us out of a massive fiscal hole in which we find ourselves. It's a challenge that makes all others that much harder to solve, and one that's been subject to a lot of political posturing.\"), Document(metadata={'source': './state_of_the_union.txt'}, page_content='So let me start the discussion of government spending by setting the record straight. At the beginning of the last decade, America had a budget surplus of over $200 billion. By the time I took office, we had a one year deficit of over $1 trillion and projected deficits of $8 trillion over the next decade. Most of this was the result of not paying for two wars, two tax cuts and an expensive prescription drug program. On top of that, the effects of the recession put a $3 trillion hole in our budget. That was before I walked in the door.\\n\\nNow if we had taken office in ordinary times, I would have liked nothing more than to start bringing down the deficit. But we took office amid a crisis, and our efforts to prevent a second depression have added another $1 trillion to our national debt.'), Document(metadata={'source': './state_of_the_union.txt'}, page_content=\"I am absolutely convinced that was the right thing to do. But families across the country are tightening their belts and making tough decisions. The federal government should do the same. So tonight, I'm proposing specific steps to pay for the $1 trillion that it took to rescue the economy last year.\\n\\nStarting in 2011, we are prepared to freeze government spending for three years. Spending related to our national security, Medicare, Medicaid and Social Security will not be affected. But all other discretionary government programs will. Like any cash-strapped family, we will work within a budget to invest in what we need and sacrifice what we don't. And if I have to enforce this discipline by veto, I will.\"), Document(metadata={'source': './state_of_the_union.txt'}, page_content=\"We will continue to go through the budget line by line to eliminate programs that we can't afford and don't work. We've already identified $20 billion in savings for next year. To help working families, we will extend our middle-class tax cuts. But at a time of record deficits, we will not continue tax cuts for oil companies, investment fund managers and those making over $250,000 a year. We just can't afford it.\"), Document(metadata={'source': './state_of_the_union.txt'}, page_content=\"Now, even after paying for what we spent on my watch, we will still face the massive deficit we had when I took office. More importantly, the cost of Medicare, Medicaid and Social Security will continue to skyrocket. That's why I've called for a bipartisan fiscal commission, modeled on a proposal by Republican Judd Gregg and Democrat Kent Conrad. This can't be one of those Washington gimmicks that lets us pretend we solved a problem. The commission will have to provide a specific set of solutions by a certain deadline. Yesterday, the Senate blocked a bill that would have created this commission. So I will issue an executive order that will allow us to go forward, because I refuse to pass this problem on to another generation of Americans. And when the vote comes tomorrow, the Senate should restore the pay-as-you-go law that was a big reason why we had record surpluses in the 1990s.\"), Document(metadata={'source': './state_of_the_union.txt'}, page_content=\"I know that some in my own party will argue that we cannot address the deficit or freeze government spending when so many are still hurting. I agree, which is why this freeze will not take effect until next year, when the economy is stronger. But understand -- if we do not take meaningful steps to rein in our debt, it could damage our markets, increase the cost of borrowing and jeopardize our recovery -- all of which could have an even worse effect on our job growth and family incomes.\\n\\nFrom some on the right, I expect we'll hear a different argument -- that if we just make fewer investments in our people, extend tax cuts for wealthier Americans, eliminate more regulations and maintain the status quo on health care, our deficits will go away. The problem is, that's what we did for eight years. That's what helped lead us into this crisis. It's what helped lead to these deficits. And we cannot do it again.\"), Document(metadata={'source': './state_of_the_union.txt'}, page_content=\"Rather than fight the same tired battles that have dominated Washington for decades, it's time to try something new. Let's invest in our people without leaving them a mountain of debt. Let's meet our responsibility to the citizens who sent us here. Let's try common sense.\\n\\nTo do that, we have to recognize that we face more than a deficit of dollars right now. We face a deficit of trust -- deep and corrosive doubts about how Washington works that have been growing for years. To close that credibility gap we must take action on both ends of Pennsylvania Avenue to end the outsized influence of lobbyists; to do our work openly and to give our people the government they deserve.\\n\\nThat's what I came to Washington to do. That's why -- for the first time in history -- my administration posts our White House visitors online. And that's why we've excluded lobbyists from policymaking jobs or seats on federal boards and commissions.\"), Document(metadata={'source': './state_of_the_union.txt'}, page_content=\"But we can't stop there. It's time to require lobbyists to disclose each contact they make on behalf of a client with my administration or Congress. And it's time to put strict limits on the contributions that lobbyists give to candidates for federal office. Last week, the Supreme Court reversed a century of law to open the floodgates for special interests -- including foreign corporations -- to spend without limit in our elections. Well, I don't think American elections should be bankrolled by America's most powerful interests, or worse, by foreign entities. They should be decided by the American people, and that's why I'm urging Democrats and Republicans to pass a bill that helps to right this wrong.\"), Document(metadata={'source': './state_of_the_union.txt'}, page_content=\"I'm also calling on Congress to continue down the path of earmark reform. You have trimmed some of this spending and embraced some meaningful change. But restoring the public trust demands more. For example, some members of Congress post some earmark requests online. Tonight, I'm calling on Congress to publish all earmark requests on a single Web site before there's a vote, so that the American people can see how their money is being spent. Of course, none of these reforms will even happen if we don't also reform how we work with one another.\"), Document(metadata={'source': './state_of_the_union.txt'}, page_content='Now, I am not naive. I never thought the mere fact of my election would usher in peace, harmony and some post-partisan era. I knew that both parties have fed divisions that are deeply entrenched. And on some issues, there are simply philosophical differences that will always cause us to part ways. These disagreements, about the role of government in our lives, about our national priorities and our national security, have been taking place for over 200 years. They are the very essence of our democracy.'), Document(metadata={'source': './state_of_the_union.txt'}, page_content='But what frustrates the American people is a Washington where every day is election day. We cannot wage a perpetual campaign where the only goal is to see who can get the most embarrassing headlines about their opponent -- a belief that if you lose, I win. Neither party should delay or obstruct every single bill just because they can. The confirmation of well-qualified public servants should not be held hostage to the pet projects or grudges of a few individual senators. Washington may think that saying anything about the other side, no matter how false, is just part of the game. But it is precisely such politics that has stopped either party from helping the American people. Worse yet, it is sowing further division among our citizens and further distrust in our government.'), Document(metadata={'source': './state_of_the_union.txt'}, page_content=\"So no, I will not give up on changing the tone of our politics. I know it's an election year. And after last week, it is clear that campaign fever has come even earlier than usual. But we still need to govern. To Democrats, I would remind you that we still have the largest majority in decades, and the people expect us to solve some problems, not run for the hills. And if the Republican leadership is going to insist that 60 votes in the Senate are required to do any business at all in this town, then the responsibility to govern is now yours as well. Just saying no to everything may be good short-term politics, but it's not leadership. We were sent here to serve our citizens, not our ambitions. So let's show the American people that we can do it together. This week, I'll be addressing a meeting of the House Republicans. And I would like to begin monthly meetings with both the Democratic and Republican leadership. I know you can't wait.\"), Document(metadata={'source': './state_of_the_union.txt'}, page_content=\"Throughout our history, no issue has united this country more than our security. Sadly, some of the unity we felt after 9/11 has dissipated. We can argue all we want about who's to blame for this, but I am not interested in relitigating the past. I know that all of us love this country. All of us are committed to its defense. So let's put aside the schoolyard taunts about who is tough. Let's reject the false choice between protecting our people and upholding our values. Let's leave behind the fear and division and do what it takes to defend our nation and forge a more hopeful future -- for America and the world.\"), Document(metadata={'source': './state_of_the_union.txt'}, page_content=\"That is the work we began last year. Since the day I took office, we have renewed our focus on the terrorists who threaten our nation. We have made substantial investments in our homeland security and disrupted plots that threatened to take American lives. We are filling unacceptable gaps revealed by the failed Christmas attack, with better airline security and swifter action on our intelligence. We have prohibited torture and strengthened partnerships from the Pacific to South Asia to the Arabian Peninsula. And in the last year, hundreds of al-Qaida's fighters and affiliates, including many senior leaders, have been captured or killed -- far more than in 2008.\"), Document(metadata={'source': './state_of_the_union.txt'}, page_content='In Afghanistan, we are increasing our troops and training Afghan Security Forces so they can begin to take the lead in July of 2011 and our troops can begin to come home. We will reward good governance, reduce corruption and support the rights of all Afghans -- men and women alike. We are joined by allies and partners who have increased their own commitment, and who will come together tomorrow in London to reaffirm our common purpose. There will be difficult days ahead. But I am confident we will succeed.'), Document(metadata={'source': './state_of_the_union.txt'}, page_content='As we take the fight to al-Qaida, we are responsibly leaving Iraq to its people. As a candidate, I promised that I would end this war, and that is what I am doing as president. We will have all of our combat troops out of Iraq by the end of this August. We will support the Iraqi government as they hold elections, and continue to partner with the Iraqi people to promote regional peace and prosperity. But make no mistake: This war is ending, and all of our troops are coming home. Tonight, all of our men and women in uniform -- in Iraq, Afghanistan and around the world -- must know that they have our respect, our gratitude and our full support. And just as they must have the resources they need in war, we all have a responsibility to support them when they come home. That is why we made the largest increase in investments for veterans in decades. That is why we are building a 21st century VA. And that is why Michelle has joined with Jill Biden to forge a national commitment to support military families.'), Document(metadata={'source': './state_of_the_union.txt'}, page_content=\"Even as we prosecute two wars, we are also confronting perhaps the greatest danger to the American people -- the threat of nuclear weapons. I have embraced the vision of John F. Kennedy and Ronald Reagan through a strategy that reverses the spread of these weapons and seeks a world without them. To reduce our stockpiles and launchers, while ensuring our deterrent, the United States and Russia are completing negotiations on the farthest-reaching arms control treaty in nearly two decades. And at April's nuclear security summit, we will bring 44 nations together behind a clear goal: securing all vulnerable nuclear materials around the world in four years, so that they never fall into the hands of terrorists.\"), Document(metadata={'source': './state_of_the_union.txt'}, page_content=\"These diplomatic efforts have also strengthened our hand in dealing with those nations that insist on violating international agreements in pursuit of these weapons. That is why North Korea now faces increased isolation and stronger sanctions -- sanctions that are being vigorously enforced. That is why the international community is more united, and the Islamic Republic of Iran is more isolated. And as Iran's leaders continue to ignore their obligations, there should be no doubt: They, too, will face growing consequences.\"), Document(metadata={'source': './state_of_the_union.txt'}, page_content='That is the leadership that we are providing -- engagement that advances the common security and prosperity of all people. We are working through the G-20 to sustain a lasting global recovery. We are working with Muslim communities around the world to promote science, education and innovation. We have gone from a bystander to a leader in the fight against climate change. We are helping developing countries to feed themselves and continuing the fight against HIV/AIDS. And we are launching a new initiative that will give us the capacity to respond faster and more effectively to bioterrorism or an infectious disease -- a plan that will counter threats at home and strengthen public health abroad.'), Document(metadata={'source': './state_of_the_union.txt'}, page_content='As we have for over 60 years, America takes these actions because our destiny is connected to those beyond our shores. But we also do it because it is right. That is why, as we meet here tonight, over 10,000 Americans are working with many nations to help the people of Haiti recover and rebuild. That is why we stand with the girl who yearns to go to school in Afghanistan, we support the human rights of the women marching through the streets of Iran, and we advocate for the young man denied a job by corruption in Guinea. For America must always stand on the side of freedom and human dignity.'), Document(metadata={'source': './state_of_the_union.txt'}, page_content=\"Abroad, America's greatest source of strength has always been our ideals. The same is true at home. We find unity in our incredible diversity, drawing on the promise enshrined in our Constitution: the notion that we are all created equal, that no matter who you are or what you look like, if you abide by the law you should be protected by it, that if you adhere to our common values you should be treated no different than anyone else.\"), Document(metadata={'source': './state_of_the_union.txt'}, page_content=\"We must continually renew this promise. My administration has a civil rights division that is once again prosecuting civil rights violations and employment discrimination. We finally strengthened our laws to protect against crimes driven by hate. This year, I will work with Congress and our military to finally repeal the law that denies gay Americans the right to serve the country they love because of who they are. We are going to crack down on violations of equal pay laws -- so that women get equal pay for an equal day's work. And we should continue the work of fixing our broken immigration system -- to secure our borders, enforce our laws and ensure that everyone who plays by the rules can contribute to our economy and enrich our nations.\"), Document(metadata={'source': './state_of_the_union.txt'}, page_content=\"In the end, it is our ideals, our values, that built America -- values that allowed us to forge a nation made up of immigrants from every corner of the globe, values that drive our citizens still. Every day, Americans meet their responsibilities to their families and their employers. Time and again, they lend a hand to their neighbors and give back to their country. They take pride in their labor, and are generous in spirit. These aren't Republican values or Democratic values they're living by, business values or labor values. They are American values.\"), Document(metadata={'source': './state_of_the_union.txt'}, page_content=\"Unfortunately, too many of our citizens have lost faith that our biggest institutions -- our corporations, our media and, yes, our government -- still reflect these same values. Each of these institutions are full of honorable men and women doing important work that helps our country prosper. But each time a CEO rewards himself for failure, or a banker puts the rest of us at risk for his own selfish gain, people's doubts grow. Each time lobbyists game the system or politicians tear each other down instead of lifting this country up, we lose faith. The more that TV pundits reduce serious debates into silly arguments and big issues into sound bites, our citizens turn away.\\n\\nNo wonder there's so much cynicism out there.\\n\\nNo wonder there's so much disappointment.\\n\\nI campaigned on the promise of change -- change we can believe in, the slogan went. And right now, I know there are many Americans who aren't sure if they still believe we can change -- or at least, that I can deliver it.\"), Document(metadata={'source': './state_of_the_union.txt'}, page_content=\"But remember this -- I never suggested that change would be easy or that I can do it alone. Democracy in a nation of 300 million people can be noisy and messy and complicated. And when you try to do big things and make big changes, it stirs passions and controversy. That's just how it is.\\n\\nThose of us in public office can respond to this reality by playing it safe and avoid telling hard truths. We can do what's necessary to keep our poll numbers high and get through the next election instead of doing what's best for the next generation.\\n\\nBut I also know this: If people had made that decision 50 years ago or 100 years ago or 200 years ago, we wouldn't be here tonight. The only reason we are is because generations of Americans were unafraid to do what was hard, to do what was needed even when success was uncertain, to do what it took to keep the dream of this nation alive for their children and grandchildren.\"), Document(metadata={'source': './state_of_the_union.txt'}, page_content='Our administration has had some political setbacks this year and some of them were deserved. But I wake up every day knowing that they are nothing compared to the setbacks that families all across this country have faced this year. And what keeps me going -- what keeps me fighting -- is that despite all these setbacks, that spirit of determination and optimism -- that fundamental decency that has always been at the core of the American people -- lives on. It lives on in the struggling small business owner who wrote to me of his company, \"None of us,\" he said, \"are willing to consider, even slightly, that we might fail.\"\\n\\nIt lives on in the woman who said that even though she and her neighbors have felt the pain of recession, \"We are strong. We are resilient. We are American.\"'), Document(metadata={'source': './state_of_the_union.txt'}, page_content='It lives on in the 8-year-old boy in Louisiana, who just sent me his allowance and asked if I would give it to the people of Haiti. And it lives on in all the Americans who\\'ve dropped everything to go some place they\\'ve never been and pull people they\\'ve never known from rubble, prompting chants of \"USA! USA! USA!\" when another life was saved.\\n\\nThe spirit that has sustained this nation for more than two centuries lives on in you, its people.\\n\\nWe have finished a difficult year. We have come through a difficult decade. But a new year has come. A new decade stretches before us. We don\\'t quit. I don\\'t quit. Let\\'s seize this moment -- to start anew, to carry the dream forward, and to strengthen our union once more.\\n\\nThank you. God Bless You. And God Bless the United States of America.')]\n"
     ]
    }
   ],
   "source": [
    "# Import utility for splitting up texts and split up the explanation given above into document chunks\n",
    "\n",
    "from langchain_text_splitters import CharacterTextSplitter\n",
    "from langchain_community.document_loaders import TextLoader\n",
    "\n",
    "# path to an example text file\n",
    "loader = TextLoader(\"./state_of_the_union.txt\")\n",
    "documents = loader.load()\n",
    "text_splitter = CharacterTextSplitter(chunk_size=1000, chunk_overlap=0)\n",
    "docs = text_splitter.split_documents(documents)\n",
    "\n",
    "print(docs)\n"
   ]
  },
  {
   "cell_type": "code",
   "execution_count": 11,
   "metadata": {
    "id": "F6lfAdeuLhtp",
    "scrolled": true
   },
   "outputs": [
    {
     "data": {
      "text/plain": [
       "'Madame Speaker, Vice President Biden, members of Congress, distinguished guests, and fellow Americans:\\n\\nOur Constitution declares that from time to time, the president shall give to Congress information about the state of our union. For 220 years, our leaders have fulfilled this duty. They have done so during periods of prosperity and tranquility. And they have done so in the midst of war and depression; at moments of great strife and great struggle.'"
      ]
     },
     "execution_count": 11,
     "metadata": {},
     "output_type": "execute_result"
    }
   ],
   "source": [
    "# Individual text chunks can be accessed with \"page_content\"\n",
    "\n",
    "docs[0].page_content"
   ]
  },
  {
   "cell_type": "code",
   "execution_count": 12,
   "metadata": {
    "id": "Z5sv4e3tLw2y",
    "scrolled": true
   },
   "outputs": [],
   "source": [
    "# Import and instantiate OpenAI embeddings\n",
    "\n",
    "from langchain_openai import OpenAIEmbeddings\n",
    "\n",
    "embeddings = OpenAIEmbeddings(model=\"text-embedding-3-large\", dimensions=1024)"
   ]
  },
  {
   "cell_type": "code",
   "execution_count": 13,
   "metadata": {
    "id": "dqzoir4hMlfl"
   },
   "outputs": [
    {
     "name": "stdout",
     "output_type": "stream",
     "text": [
      "[0.014747709035873413, -0.0023592801298946142, -0.01125738862901926, -0.026084624230861664, 0.019033292308449745, -0.06089947000145912, -0.03145706653594971, 0.0612882636487484, 0.01721302419900894, 0.04492352157831192, 0.03849072754383087, 0.06892278790473938, 0.026261350139975548, 0.011425277218222618, -0.07493144273757935, -0.021719515323638916, -0.03569846972823143, 0.007749395444989204, -0.0032274420373141766, -0.03792520612478256, -0.0680038183927536, 0.05598651245236397, -0.02256779558956623, 0.009083669632673264, 0.024299701675772667, 0.01864449866116047, 0.027728168293833733, 0.03387819975614548, 0.06690812110900879, 0.007082258351147175, 0.00034047194640152156, 0.05043734237551689, -0.005315007176250219, -0.013510633260011673, 0.03884417563676834, 0.005955635569989681, 0.015887586399912834, 0.009260395541787148, -5.129169949213974e-05, 0.03343638777732849, -0.021472100168466568, -0.009472465142607689, -0.022638484835624695, 0.011222044005990028, 0.051745109260082245, 0.013899428769946098, 0.007952629588544369, 0.024016940966248512, 0.06259603053331375, -0.015313229523599148, -0.015472282655537128, -0.021083304658532143, 0.012892096303403378, 0.04054073616862297, 0.026031607761979103, 0.02755144238471985, 0.048351988196372986, -0.13565418124198914, -0.060298603028059006, -0.030891546979546547, -0.01592293195426464, -0.044216617941856384, 0.03622864559292793, 0.029848869889974594, -0.007395945489406586, -0.04902354255318642, -0.0003448900824878365, 0.016355907544493675, -0.0003385390155017376, 0.022903572767972946, -0.009392938576638699, -0.0008598780259490013, -0.037995897233486176, 0.029283348470926285, 0.022267362102866173, -0.013890592381358147, -0.030166974291205406, 0.018715187907218933, -0.015940602868795395, 0.013351581059396267, 0.0019020038889721036, -0.047114912420511246, 0.031863536685705185, 0.01761949248611927, -0.04485283046960831, -0.00429883785545826, -0.03884417563676834, -0.09458327293395996, 0.025589793920516968, 0.009392938576638699, 0.006689045112580061, 0.021719515323638916, -0.008438623510301113, -0.03200491517782211, 0.004195012152194977, 0.0034903206396847963, 0.019227690994739532, -0.028806190937757492, 0.004047004505991936, -0.09111946076154709, 0.009163196198642254, 0.03492087870836258, -0.01354597881436348, -0.027993256226181984, 0.011036482639610767, 0.02684454247355461, 0.014800727367401123, 0.010903938673436642, -0.016815392300486565, 0.022885899990797043, -0.0013497379841282964, 0.0004014973237644881, 0.011328078806400299, -0.024635478854179382, 0.0009659131173975766, -0.0034262577537447214, -0.013713867403566837, 0.010488634929060936, -0.006057252641767263, -0.0037885443307459354, -0.01782272569835186, -0.006074925418943167, 0.023575127124786377, 0.01731022261083126, -0.03497389703989029, 0.01382873859256506, -0.009649190120398998, -0.004020495805889368, 0.0027480751741677523, 0.01853846199810505, -0.04135367274284363, 0.08115216344594955, -0.05262873321771622, -0.007440126501023769, 0.04202522709965706, -0.003260578028857708, 0.013519469648599625, -0.008071918971836567, -0.008063082583248615, 0.02348676510155201, -0.07266935706138611, 0.03884417563676834, -0.0360519215464592, -0.003432885045185685, 0.030060939490795135, -0.048351988196372986, 0.022479431703686714, -0.013537142425775528, 0.027321700006723404, -0.01002031285315752, -0.02157813496887684, -0.03179284557700157, 0.01159316673874855, 0.04425196349620819, 0.02302728034555912, -0.03774848207831383, 0.01362550538033247, -0.008876018226146698, 0.021242355927824974, -0.011328078806400299, 0.02477685920894146, 8.394441829295829e-05, -0.047150254249572754, 0.0010377076687291265, 0.0164884515106678, -0.004568343982100487, 0.10037985444068909, -0.03700623661279678, -0.002175927860662341, 0.03930366039276123, 0.016294054687023163, -0.018927257508039474, -0.0448174849152565, -0.04980113357305527, 0.017442766577005386, 0.004767159465700388, 0.03280017897486687, 0.046902839094400406, -0.044888176023960114, 0.029742833226919174, 0.028859209269285202, -0.0017959688557311893, -0.03235836699604988, -0.010294237174093723, -0.0014060690300539136, 0.033259663730859756, 0.0031545429956167936, 0.005752401892095804, -0.029530763626098633, -0.02179020456969738, 0.01027656439691782, -0.011310406029224396, -0.0076654511503875256, -0.03725365176796913, -0.017937596887350082, -0.06888744235038757, 0.011319242417812347, -0.027993256226181984, -0.02173718623816967, 0.017575310543179512, 0.03940969705581665, 0.0623486153781414, -0.010364927351474762, 0.04114160314202309, -0.04552438482642174, -0.02776351198554039, -0.03700623661279678, 0.023257022723555565, -0.021542789414525032, 0.04425196349620819, 0.020535456016659737, -0.08737289160490036, -0.015003960579633713, 0.021984601393342018, -0.026296693831682205, 0.007837758399546146, -0.09861260652542114, 0.01896260306239128, 0.07733490318059921, 0.027781184762716293, -0.006962968967854977, -0.03214629366993904, -0.04096487909555435, 0.02313331514596939, -0.03341871500015259, -0.05262873321771622, 0.006379776168614626, -0.02900058776140213, -0.0478924997150898, 0.035256657749414444, -0.05566840618848801, 0.009384103119373322, 0.04389851540327072, 0.025271689519286156, -0.00983475148677826, -0.008730219677090645, 0.03962176665663719, 0.031545430421829224, 0.017274878919124603, -0.04743301495909691, 0.004961557220667601, 0.003956432919949293, 0.026155315339565277, 0.04707956686615944, 0.020075971260666847, 0.016930263489484787, -0.009057161398231983, 0.037677790969610214, 0.0278165303170681, 0.042520057410001755, 0.011716874316334724, -0.03373682126402855, -0.0029822359792888165, -0.002573559293523431, 0.03668813034892082, -0.009339921176433563, 0.010037985630333424, -0.10935749113559723, -0.04403989389538765, -0.025271689519286156, 0.0016336026601493359, -0.02878851816058159, -0.024847548454999924, 0.010311909019947052, -0.004148621577769518, -0.013784557580947876, 0.011893599294126034, 0.0003327402228023857, 0.018361737951636314, -0.05079079419374466, 0.036652784794569016, 0.013121838681399822, 0.015834568068385124, 0.056375306099653244, 0.03112128935754299, 0.04718559980392456, 0.052310630679130554, 0.0427674725651741, -0.03859676048159599, -0.05079079419374466, 0.017893416807055473, 0.018220357596874237, 0.0494476817548275, -0.03410794213414192, -0.03085620142519474, -0.028010927140712738, 0.009074834175407887, 0.028134634718298912, -0.010417944751679897, -0.049483027309179306, -0.0463726669549942, 0.07302281260490417, -0.007784740533679724, -0.014031972736120224, 0.012114505283534527, 0.05980377271771431, 0.023504437878727913, -0.020128987729549408, -0.05156838521361351, -0.02415832132101059, 0.026349712163209915, 0.016612159088253975, 0.023097969591617584, 0.017707854509353638, -0.014570984058082104, 0.03341871500015259, -0.01746043935418129, -0.0029822359792888165, -0.015109995380043983, -0.009684535674750805, -0.029477747157216072, -0.021260028705000877, -0.03820796683430672, -0.028929898515343666, -0.0159759484231472, 0.037536412477493286, -0.009437120519578457, -0.0070027317851781845, 0.04775112122297287, -0.0017296968726441264, 0.009525482542812824, 0.013192528858780861, 0.02719799242913723, -0.0005760133499279618, 0.0006616145838052034, -0.01724836975336075, 0.01195545308291912, 0.017681345343589783, 0.02205529250204563, 0.021047959104180336, -0.019298380240797997, 0.00426349276676774, -0.005655203014612198, -0.009543155319988728, 0.048705436289310455, 0.0015783760463818908, 0.016762375831604004, -0.05531495437026024, 0.0003252846363466233, -0.07401247322559357, 0.06775639951229095, -0.06782709062099457, -0.08369700610637665, -0.05079079419374466, 0.002385788829997182, 0.044994208961725235, -0.024971256032586098, 0.04934164881706238, -0.0018357319058850408, -0.015737369656562805, 0.0008963276050053537, -0.02338073030114174, 0.04987182095646858, 0.023893233388662338, 0.07542627304792404, -0.0013453197898343205, 0.005147118587046862, -0.02071218192577362, 0.05955635756254196, -0.008191208355128765, 0.006918787490576506, 0.020570801571011543, -0.014774218201637268, -0.011831745505332947, -0.045206278562545776, -0.08942289650440216, -0.0087567288428545, -0.023363057523965836, 0.026102297008037567, -0.038455381989479065, 0.007616851478815079, 0.03704158216714859, -0.021878566592931747, -0.03564545139670372, -0.012662352994084358, 0.03069715015590191, -0.0273040272295475, -0.003320222720503807, 0.01063885074108839, 0.010037985630333424, -0.004278956446796656, 0.0036648367531597614, 0.09097807854413986, -0.022550122812390327, -0.016727030277252197, -0.07917284220457077, 0.021472100168466568, 0.02668548934161663, -0.07655731588602066, 0.007192711345851421, -0.006945296190679073, -0.02967214398086071, -0.03101525455713272, -0.0448174849152565, 0.028364378958940506, 0.01921001821756363, 0.0008814164320938289, -0.011381096206605434, 0.028576448559761047, 0.01972252130508423, 0.0019196763169020414, -0.006097015924751759, -0.03458510339260101, -0.04923561215400696, 0.04163643345236778, -0.014500293880701065, -0.0355570912361145, -0.02410530298948288, 0.07443661242723465, 0.005562422331422567, -0.01558715384453535, 0.010939283296465874, -0.028099291026592255, 0.018326392397284508, 0.03166913613677025, -0.01303347572684288, -0.04177781194448471, 0.01179639995098114, 0.024193665012717247, 0.040823496878147125, 0.012600499205291271, 0.036034248769283295, 0.003004326717928052, 0.049376990646123886, -0.02504194714128971, -0.011575493961572647, 0.07408316433429718, -0.0004721873556263745, -0.010506306774914265, -0.032323021441698074, -0.029141968116164207, -0.020871233195066452, -0.013024639338254929, 0.007616851478815079, 0.010762558318674564, -0.028240671381354332, -0.011442949995398521, -0.07401247322559357, 0.027321700006723404, 0.015375083312392235, -0.01977553777396679, -0.032994575798511505, 0.032429054379463196, 0.01002031285315752, -0.03718296065926552, 0.03212862089276314, 0.012450283393263817, -0.012247049249708652, 0.04605456069111824, 0.019846228882670403, -0.009560828097164631, 0.019121656194329262, -0.057471003383398056, 0.002383579732850194, -0.049730442464351654, 0.014950943179428577, -0.0188035499304533, -0.032588109374046326, -0.016090819612145424, 0.04559507593512535, 0.011743382550776005, 0.03580450639128685, 0.02560746669769287, -0.006207468919456005, -0.010833248496055603, 0.04810457304120064, -0.0004578284570015967, 0.015127668157219887, 0.021772531792521477, -0.016347071155905724, 0.003260578028857708, 0.023469092324376106, -0.029354039579629898, 0.008367933332920074, 0.011725709773600101, -0.030820857733488083, -0.008235389366745949, 0.022072965279221535, -0.04969509690999985, 0.002695057773962617, -0.02956610918045044, 0.01843242719769478, 0.013519469648599625, -0.06499949097633362, -0.07192711532115936, -0.05064941197633743, -0.0535830482840538, -0.017142334952950478, -0.11190233379602432, 0.022214345633983612, 0.04414593055844307, 0.029813524335622787, -0.009490137919783592, 0.046443354338407516, 0.012759552337229252, 0.006958550773561001, -0.010188201442360878, 0.05496150627732277, 0.06726156920194626, 0.016620995476841927, 0.008160280995070934, 0.022267362102866173, 0.032888539135456085, -0.07889008522033691, -0.042520057410001755, -0.03394889086484909, 0.024034613743424416, -0.08214182406663895, -0.047150254249572754, 0.04852871224284172, -0.014977452345192432, 0.018273375928401947, 0.024405736476182938, 0.0032782505732029676, 0.03993987292051315, -0.027127303183078766, 0.011372259818017483, -0.04343903064727783, 0.03414328768849373, -0.03430234268307686, 0.00973755307495594, 0.012635844759643078, 0.005054337903857231, 0.047256290912628174, 0.012220540083944798, 0.002644249238073826, 0.01709815301001072, 0.01140760537236929, -0.09868329763412476, -0.06150033324956894, -0.02482987567782402, 0.011319242417812347, 0.0014933270867913961, 0.006167706102132797, 0.019510449841618538, 0.017009790986776352, -0.0025426323991268873, 0.03564545139670372, 0.006021907553076744, 0.026508765295147896, -0.0007201547850854695, -0.0339842364192009, 0.005491732619702816, -0.012061487883329391, 0.02348676510155201, 0.004630197770893574, 0.011628511361777782, -0.01257399097084999, 0.007842176593840122, 0.0069673871621489525, 0.036299336701631546, -0.01328972727060318, -0.0007814562995918095, 0.010161693207919598, -0.0021416873205453157, -0.012087997049093246, -0.02560746669769287, 0.030202319845557213, -0.0067199720069766045, -0.013042312115430832, 0.011416441760957241, 0.02509496361017227, 0.0009035070543177426, -0.004398245830088854, 0.016347071155905724, -0.012282393872737885, -0.042944200336933136, 0.060652054846286774, 0.0059733083471655846, 0.03419630602002144, -0.03044973500072956, -0.07995043694972992, 0.002246617805212736, -0.00832375232130289, 0.01710698939859867, 0.007996810600161552, 0.04358040913939476, 0.0023504437413066626, -0.0009791675256565213, 0.006286995485424995, -0.01958114095032215, -0.020888905972242355, 0.04241402447223663, -0.04506490007042885, -0.06938227266073227, -0.01027656439691782, -0.026491092517971992, -0.02431737259030342, 0.012485628016293049, 0.016709357500076294, -0.010691868141293526, 0.015269048511981964, 0.004236984066665173, -0.0037355266977101564, -0.012176359072327614, -0.04591318219900131, 0.0066581182181835175, -0.04718559980392456, 0.043297648429870605, 0.003936551511287689, -0.025218671187758446, 0.0311743076890707, -0.02214365452528, -0.026049278676509857, -0.005871691275388002, -0.0301316287368536, 0.003185469890013337, -0.002642040140926838, -0.01336925383657217, 0.05549168214201927, -0.058602042496204376, -0.005699384491890669, -0.0003628387057688087, -0.05361839383840561, -0.021489771082997322, 0.02050011046230793, 0.04382782429456711, 0.019192345440387726, -0.02555444836616516, 0.01761065609753132, 0.03746572136878967, -0.04100022092461586, 0.02910662442445755, -0.03488553315401077, -0.026155315339565277, 0.012697698548436165, -0.03380751237273216, -0.03329500928521156, -0.02555444836616516, -0.045559730380773544, 0.012706534937024117, -0.015993621200323105, -0.0019925753585994244, -0.004886448848992586, -0.05856669694185257, 0.016364743933081627, 0.0051515367813408375, -0.05054337903857231, 0.0582132488489151, 0.036034248769283295, 0.028717828914523125, 0.028417395427823067, -0.011805236339569092, 0.08348493278026581, 0.008637439459562302, 0.03465579077601433, 0.014765381813049316, 0.06772105395793915, 0.015366246923804283, 0.07309350371360779, 0.041601087898015976, -0.02044709399342537, 0.0028364378958940506, 0.018273375928401947, -0.03585752099752426, 0.01009983941912651, 0.011301569640636444, -0.0244764257222414, -0.00042772997403517365, 0.0002481054689269513, 0.023610472679138184, 0.010683031752705574, 0.015516463667154312, -0.014111499302089214, 0.021560462191700935, -0.04640800878405571, -0.022991934791207314, 0.006370939780026674, 0.013563651591539383, -0.04209591820836067, -0.008407696150243282, 0.0018677633488550782, 0.05588047578930855, -0.03234069421887398, 0.024193665012717247, -0.05436063930392265, -0.06768571585416794, 0.03189887851476669, -0.027834203094244003, -0.01143411360681057, 0.03735968470573425, -0.013881755992770195, 0.00031534384470432997, 0.0155783174559474, 0.06524690240621567, 4.262802758603357e-05, 0.01622336357831955, 0.020217351615428925, 0.047008875757455826, 0.0028519013430923223, -0.02332771196961403, 0.01071837730705738, -0.023522110655903816, -0.004462308716028929, -0.020888905972242355, 0.02442340925335884, 0.0278165303170681, 0.002246617805212736, -0.002703893929719925, -9.202131332131103e-05, 0.023097969591617584, -0.005085264798253775, -0.0007610224420204759, -0.001432577846571803, 0.027321700006723404, 0.04619593918323517, -0.004572761710733175, -0.013881755992770195, -0.05064941197633743, 0.005845182575285435, 0.008222134783864021, 0.02375185303390026, 0.00275028427131474, -0.014040809124708176, 0.012909768149256706, -0.008761147037148476, -0.004042586777359247, -0.014853744767606258, -0.001127726980485022, -0.026455746963620186, -0.01435007806867361, 0.02606695145368576, -0.07344695180654526, 0.009507810696959496, -0.05245200917124748, 0.015984784811735153, -0.001696560881100595, -0.016877247020602226, 0.028523430228233337, 0.005862854886800051, -0.009445956908166409, 0.01767250895500183, 0.010939283296465874, -0.01910398341715336, 0.0058496007695794106, -0.03416096046566963, 0.025466086342930794, 0.013925937935709953, 0.011372259818017483, -0.035468727350234985, 0.028099291026592255, -0.06372707337141037, -0.016011293977499008, 0.054678745567798615, 0.007647778373211622, 0.04640800878405571, 0.04796319082379341, 0.033719148486852646, -0.04506490007042885, -0.01390826515853405, 0.007365018595010042, -0.07613316923379898, -0.018785877153277397, 0.019616486504673958, 0.01719535142183304, 0.03136870637536049, 0.02384021505713463, -0.021878566592931747, 0.019492778927087784, 0.019298380240797997, -0.025925571098923683, 0.025589793920516968, -0.04912957549095154, 0.042732127010822296, -0.02338073030114174, 0.0003650477738119662, 0.00611910643056035, 0.015878750011324883, -0.0010780231095850468, 0.011283897794783115, 0.018096650019288063, 0.03566312417387962, -0.015649007633328438, 0.025271689519286156, -0.053759776055812836, -0.00790403038263321, 0.008509313687682152, 0.04676146060228348, -0.02028804086148739, -0.03944504261016846, -0.007069003768265247, -0.008986471220850945, -0.03249974548816681, -0.056233927607536316, -0.020358731970191002, -0.00628257729113102, 0.01427055150270462, -0.010135184042155743, -0.04220195487141609, 0.022479431703686714, -0.018070140853524208, 0.026862215250730515, -0.004745068959891796, 0.013104165904223919, 0.05170976370573044, -0.009702207520604134, 0.017796216532588005, 0.012892096303403378, -0.01632939837872982, 0.06931158155202866, -0.004603688605129719, -0.015984784811735153, 0.027851875871419907, -0.02044709399342537, 0.014844908379018307, 0.02698592282831669, -0.003070598468184471, -0.030785512179136276, 0.05291149392724037, 0.008270734921097755, 0.016886083409190178, -0.044888176023960114, -0.05262873321771622, 0.0073385098949074745, 0.004935048520565033, -0.025324705988168716, 0.02292124554514885, -0.015790387988090515, -0.05351236090064049, -0.026332039386034012, 0.008275153115391731, 0.05694082751870155, 0.0018489863723516464, -0.03301224857568741, -0.005920290946960449, 0.001311079366132617, 0.025307033210992813, 0.03725365176796913, 0.015021633356809616, 0.05690548196434975, -0.016249872744083405, 0.04987182095646858, -0.03075016662478447, 0.054608054459095, 0.0003498604637570679, 0.022726846858859062, 0.013095329515635967, 0.03363078460097313, 0.032022587954998016, 0.051851142197847366, -0.004833431448787451, 0.030873874202370644, -0.020694509148597717, 0.03393121808767319, 0.04573645442724228, -0.004811340942978859, 0.04446403309702873, -0.03909159079194069, 0.004521953407675028, -0.005677293986082077, 0.03189887851476669, -0.01452680304646492, -0.005553586408495903, -0.015207194723188877, 0.007139693945646286, 0.03235836699604988, -0.027851875871419907, -0.010903938673436642, 0.0365820936858654, 0.04616059362888336, 0.04110625758767128, 0.01716000773012638, -0.0017904461128637195, 0.05262873321771622, -0.011239715851843357, 0.009225049987435341, 0.051073554903268814, 0.023398403078317642, -0.013634340837597847, -0.0031081526540219784, -0.00239462498575449, -0.010285400785505772, 0.0027790020685642958, -0.06089947000145912, -0.02741006202995777, 0.02065916359424591, 0.017531130462884903, 0.005611022002995014, 0.005076428409665823, 0.021242355927824974, -0.0023416075855493546, -0.032464399933815, 0.02200227417051792, -0.06061670929193497, 0.0370769239962101, -0.012856750749051571, 0.010214710608124733, -0.011548984795808792, -0.0008703711209818721, -0.005907036364078522, 0.00550056854262948, 0.023204004392027855, 0.01958114095032215, 0.008217716589570045, 0.03173982724547386, 0.0211186483502388, -0.00577007420361042, 0.022585468366742134, -0.021931584924459457, 0.00957849994301796, 0.007015986368060112, -0.037889860570430756, 0.04605456069111824, 0.01159316673874855, -0.010179365985095501, -0.0035897286143153906, -0.004027123097330332, 0.0024653151631355286, -0.015940602868795395, -0.011805236339569092, -0.004824595060199499, -0.021931584924459457, -0.012600499205291271, -0.004700887482613325, -0.010921611450612545, 0.005067592021077871, -0.004639033693820238, -0.011283897794783115, -0.013457615859806538, -0.0026862213853746653, 0.027834203094244003, -0.01382873859256506, 0.031598448753356934, 0.0017341150669381022, 0.03838469088077545, 0.0040956041775643826, 0.023504437878727913, 0.06111153960227966, -0.04322695732116699, 0.04347437247633934, -0.048811472952365875, 0.0036096100229769945, -0.03898555785417557, -0.0047185602597892284, 0.019174672663211823, -0.0019760075956583023, 0.02585488185286522, 0.04651404544711113, 0.010674196295440197, 0.010550488717854023, -0.0437924787402153, 0.020623818039894104, -0.014323568902909756, -0.020217351615428925, 0.007320837117731571, 0.020941924303770065, 0.0345320850610733, 0.0437924787402153, 0.018467772752046585, 0.04008125141263008, -0.04237867891788483, 0.007422454189509153, -0.008818582631647587, 0.025890227407217026, 0.039904527366161346, -0.019740194082260132, -0.011283897794783115, 0.014712364412844181, 0.011937780305743217, -0.025324705988168716, -0.010550488717854023, -0.042944200336933136, -0.012291230261325836, -0.009649190120398998, 0.03322431817650795, 0.014765381813049316, -0.02292124554514885, -0.0211186483502388, 0.04227264225482941, 0.013510633260011673, 0.03580450639128685, -0.02507729083299637, -0.0391622819006443, -0.03333035483956337, -0.02534237876534462, 0.02760446071624756, -0.00796146597713232, 0.0030573441181331873, 0.019757864996790886, 0.03838469088077545, 0.015640171244740486, -0.02560746669769287, 0.03368380293250084, -0.014376586303114891, 0.013581323437392712, 0.0011608629720285535, 0.014394259080290794, -0.0005395638290792704, -0.015534136444330215, -0.030767839401960373, -0.06577707827091217, -0.017955269664525986, 0.031545430421829224, -0.03225233033299446, 0.02451177127659321, -0.04888216033577919, 0.027162646874785423, -0.005871691275388002, 0.019492778927087784, -0.006839261390268803, -0.06146498769521713, 0.030944565311074257, 0.006393030285835266, 0.024988928809762, 0.004086767788976431, -0.013722703792154789, -0.03318897262215614, -0.024069957435131073, -0.03583984822034836, 0.02534237876534462, -0.03128034248948097, -0.009101342409849167, 0.01843242719769478, 0.026438074186444283, 0.016267545521259308, -0.003024208126589656, -0.014685855247080326, 0.030202319845557213, 0.016824228689074516, -0.024229010567069054, -0.0052929166704416275, 0.011124844662845135, -0.007289910223335028, -0.005319425370544195]\n"
     ]
    }
   ],
   "source": [
    "# Turn the first text chunk into a vector with the embedding\n",
    "\n",
    "query_result = embeddings.embed_query(docs[0].page_content)\n",
    "print(query_result)"
   ]
  },
  {
   "cell_type": "code",
   "execution_count": 14,
   "metadata": {
    "id": "QaOY5bIZM3Xz"
   },
   "outputs": [
    {
     "name": "stdout",
     "output_type": "stream",
     "text": [
      "pcsk_7A1TPN_MS8g1LuZcvvpXAFVN9sobPRDXSH1ipWhhMNPxfp3yLmLpq9azhYDTDXn5af1qXN\n"
     ]
    },
    {
     "name": "stderr",
     "output_type": "stream",
     "text": [
      "/opt/anaconda3/lib/python3.13/site-packages/langchain_pinecone/__init__.py:3: LangChainDeprecationWarning: As of langchain-core 0.3.0, LangChain uses pydantic v2 internally. The langchain_core.pydantic_v1 module was a compatibility shim for pydantic v1, and should no longer be used. Please update the code to import from Pydantic directly.\n",
      "\n",
      "For example, replace imports like: `from langchain_core.pydantic_v1 import BaseModel`\n",
      "with: `from pydantic import BaseModel`\n",
      "or the v1 compatibility namespace if you are working in a code base that has not been fully upgraded to pydantic 2 yet. \tfrom pydantic.v1 import BaseModel\n",
      "\n",
      "  from langchain_pinecone.vectorstores import Pinecone, PineconeVectorStore\n"
     ]
    }
   ],
   "source": [
    "# Import and initialize Pinecone client\n",
    "\n",
    "import os\n",
    "from pinecone import Pinecone, ServerlessSpec\n",
    "from secret_key import pineconeapi_key\n",
    "from langchain_pinecone import PineconeVectorStore\n",
    "os.environ['PINECONE_API_KEY'] = pineconeapi_key\n",
    "\n",
    "pc = Pinecone(api_key=\"YOUR_API_KEY\")\n",
    "\n",
    "print(pineconeapi_key)"
   ]
  },
  {
   "cell_type": "code",
   "execution_count": 15,
   "metadata": {
    "id": "lZhSUt3FNBzN"
   },
   "outputs": [],
   "source": [
    "# Upload vectors to Pinecone\n",
    "index_name = \"langchain-quickstart\"\n",
    "\n",
    "vectorstore_from_docs = PineconeVectorStore.from_documents(\n",
    "        docs,\n",
    "        index_name=index_name,\n",
    "        embedding=embeddings\n",
    "    )"
   ]
  },
  {
   "cell_type": "code",
   "execution_count": 16,
   "metadata": {
    "id": "cCXVuXwPNKcc"
   },
   "outputs": [
    {
     "name": "stdout",
     "output_type": "stream",
     "text": [
      "[Document(id='c3df6fb6-d83d-43a0-96a1-81a9f7b00efd', metadata={'source': './state_of_the_union.txt'}, page_content=\"But the truth is, these steps still won't make up for the 7 million jobs we've lost over the last two years. The only way to move to full employment is to lay a new foundation for long-term economic growth and finally address the problems that America's families have confronted for years.\\n\\nWe cannot afford another so-called economic expansion like the one from last decade -- what some call the lost decade -- where jobs grew more slowly than during any prior expansion, where the income of the average American household declined while the cost of health care and tuition reached record highs, where prosperity was built on a housing bubble and financial speculation.\\n\\nFrom the day I took office, I have been told that addressing our larger challenges is too ambitious -- that such efforts would be too contentious, that our political system is too gridlocked and that we should just put things on hold for a while.\\n\\nFor those who make these claims, I have one simple question:\"), Document(id='5a5e7ee8-2637-4f47-8afd-556605aae712', metadata={'source': './state_of_the_union.txt'}, page_content=\"But the truth is, these steps still won't make up for the 7 million jobs we've lost over the last two years. The only way to move to full employment is to lay a new foundation for long-term economic growth and finally address the problems that America's families have confronted for years.\\n\\nWe cannot afford another so-called economic expansion like the one from last decade -- what some call the lost decade -- where jobs grew more slowly than during any prior expansion, where the income of the average American household declined while the cost of health care and tuition reached record highs, where prosperity was built on a housing bubble and financial speculation.\\n\\nFrom the day I took office, I have been told that addressing our larger challenges is too ambitious -- that such efforts would be too contentious, that our political system is too gridlocked and that we should just put things on hold for a while.\\n\\nFor those who make these claims, I have one simple question:\"), Document(id='5bdae614-f6ff-4385-b425-c5f203d31caa', metadata={'source': './state_of_the_union.txt'}, page_content=\"One year ago, I took office amid two wars, an economy rocked by severe recession, a financial system on the verge of collapse and a government deeply in debt. Experts from across the political spectrum warned that if we did not act, we might face a second depression. So we acted immediately and aggressively. And one year later, the worst of the storm has passed.\\n\\nBut the devastation remains. One in 10 Americans still cannot find work. Many businesses have shuttered. Home values have declined. Small towns and rural communities have been hit especially hard. For those who had already known poverty, life has become that much harder.\\n\\nThis recession has also compounded the burdens that America's families have been dealing with for decades -- the burden of working harder and longer for less, of being unable to save enough to retire or help kids with college.\"), Document(id='d856e1fb-7343-436f-93a9-19735143174e', metadata={'source': './state_of_the_union.txt'}, page_content=\"One year ago, I took office amid two wars, an economy rocked by severe recession, a financial system on the verge of collapse and a government deeply in debt. Experts from across the political spectrum warned that if we did not act, we might face a second depression. So we acted immediately and aggressively. And one year later, the worst of the storm has passed.\\n\\nBut the devastation remains. One in 10 Americans still cannot find work. Many businesses have shuttered. Home values have declined. Small towns and rural communities have been hit especially hard. For those who had already known poverty, life has become that much harder.\\n\\nThis recession has also compounded the burdens that America's families have been dealing with for decades -- the burden of working harder and longer for less, of being unable to save enough to retire or help kids with college.\")]\n"
     ]
    }
   ],
   "source": [
    "# Do a simple vector similarity search\n",
    "\n",
    "query = \"How to deal with our economy?\"\n",
    "result = vectorstore_from_docs.similarity_search(query)\n",
    "\n",
    "print(result)"
   ]
  },
  {
   "cell_type": "code",
   "execution_count": 17,
   "metadata": {
    "id": "4Ogz8luZNRnJ"
   },
   "outputs": [
    {
     "name": "stdout",
     "output_type": "stream",
     "text": [
      "829ec43a33397f677d52519d1cbeab42760944da5fe64e8f7b3799fc895e735a\n"
     ]
    }
   ],
   "source": [
    "#!pip install langchain openai google-search-results\n",
    "from langchain.agents import Tool\n",
    "from langchain.agents import AgentType\n",
    "from langchain.memory import ConversationBufferMemory\n",
    "from langchain.llms import OpenAI\n",
    "from langchain.utilities import SerpAPIWrapper\n",
    "from langchain.agents import initialize_agent\n",
    "\n",
    "import os\n",
    "from secret_key import serpapi_key\n",
    "\n",
    "print(serpapi_key)\n",
    "\n",
    "\n",
    "search = SerpAPIWrapper(serpapi_api_key=serpapi_key)\n",
    "tools = [\n",
    "Tool(\n",
    "name = \"Current Search\",\n",
    "func=search.run,\n",
    "description=\"useful for when you need to answer questions about current events or the current state of the world\"\n",
    "),\n",
    "]"
   ]
  },
  {
   "cell_type": "code",
   "execution_count": 18,
   "metadata": {
    "id": "BVHMDj0sNi09"
   },
   "outputs": [
    {
     "data": {
      "text/plain": [
       "'[\"Presidential elections were held in the United States on November 5, 2024. The Republican Party\\'s ticket—Donald Trump, who served as the 45th president of ...\", \\'View maps and real-time results for the 2024 US presidential election matchup between former President Donald Trump and Vice President Kamala Harris.\\', \\'The APP excludes \"over\" and \"under\" votes in the total votes cast, which also impacts the vote percentage for candidates. Harris-Walz 2024. Trump-Vance 2024.\\', \\'Former President Donald Trump (R) won the November 5, 2024, presidential election. Twenty-four candidates appeared on presidential election ballots across the ...\\', \\'45th & 47th President of the United States. President Donald J. Trump Official Presidential Portrait. After a landslide election victory in 2024, President ...\\', \\'Donald Trump passed the critical threshold of 270 electoral college votes with a projected win in the state of Wisconsin making him the next US president.\\', \"Donald Trump\\'s second and current tenure as the president of the United States began upon his inauguration as the 47th president on January 20, 2025.\", \"Look back at how election night unfolded, according to NBC News\\' politics team. The electorate ...\", \"Kamala Harris, the 49th Vice President of the United States, took the reins of President Joe Biden\\'s 2024 presidential campaign in July.\"]'"
      ]
     },
     "execution_count": 18,
     "metadata": {},
     "output_type": "execute_result"
    }
   ],
   "source": [
    "# Execute the Search agent\n",
    "\n",
    "search.run(\"Who will be the US Predient in 2024?\")"
   ]
  },
  {
   "cell_type": "code",
   "execution_count": 19,
   "metadata": {},
   "outputs": [
    {
     "name": "stderr",
     "output_type": "stream",
     "text": [
      "/var/folders/zd/x0p6cdlx0sl5rrch3kzvrmkm0000gn/T/ipykernel_50415/1483277849.py:7: LangChainDeprecationWarning: LangChain agents will continue to be supported, but it is recommended for new use cases to be built with LangGraph. LangGraph offers a more flexible and full-featured framework for building agents, including support for tool-calling, persistence of state, and human-in-the-loop workflows. For details, refer to the `LangGraph documentation <https://langchain-ai.github.io/langgraph/>`_ as well as guides for `Migrating from AgentExecutor <https://python.langchain.com/docs/how_to/migrate_agent/>`_ and LangGraph's `Pre-built ReAct agent <https://langchain-ai.github.io/langgraph/how-tos/create-react-agent/>`_.\n",
      "  agent = initialize_agent(tools, llm, agent=AgentType.ZERO_SHOT_REACT_DESCRIPTION, verbose=True)\n",
      "/var/folders/zd/x0p6cdlx0sl5rrch3kzvrmkm0000gn/T/ipykernel_50415/1483277849.py:9: LangChainDeprecationWarning: The method `Chain.run` was deprecated in langchain 0.1.0 and will be removed in 1.0. Use :meth:`~invoke` instead.\n",
      "  agent.run(\"What is GDP of US in 2023?\")\n"
     ]
    },
    {
     "name": "stdout",
     "output_type": "stream",
     "text": [
      "\n",
      "\n",
      "\u001b[1m> Entering new AgentExecutor chain...\u001b[0m\n",
      "\u001b[32;1m\u001b[1;3m I should always think about what to do\n",
      "Action: Search\n",
      "Action Input: \"GDP of US in 2023\"\u001b[0m\n",
      "Observation: \u001b[36;1m\u001b[1;3m['Current-dollar GDP increased 6.3 percent, or $1.61 trillion, in 2023 to a level of $27.36 trillion, compared with an increase of 9.1 percent, or ...', 'U.S. GDP for 2023 was 27.721 trillion US dollars, a 6.59% increase from 2022. U.S. GDP for 2022 was 26.007 trillion US dollars, a 9.82% increase from 2021.', 'Gross domestic product of the United States from 1990 to 2024 (in billion current U.S. dollars ) ; 2023, 27,720.7 ; 2022, 26,006.9 ; 2021, 23,681.2.', 'Economy of the United States · Increase $30.507 trillion (nominal; 2025) · Increase $30.507 trillion (PPP; 2025).', 'GDP (current US$) - United States. Country official statistics, National ... 2023, 2022, 2021, 2020, 2019, 2018, 2017, 2016, 2015, 2014, 2013, 2012, 2011, 2010 ...', 'The nominal GDP per capita in the United States of America was $85,809.9 in 2024. The Gini index in the United States of America was 41.8 in 2023. The life ...', 'In 2023, real gross domestic product (GDP) increased in 2,357 counties, decreased in 734 counties, and was unchanged in 23 counties. The percent change in real ...', 'The Gross Domestic Product (GDP) in the United States was worth 29184.89 billion US dollars in 2024, according to official data from the World Bank.', 'View economic output, reported as the nominal value of all new goods and services produced by labor and property located in the U.S..', 'Real GDP (constant, inflation adjusted) of the United States of America reached $22,062,600,000,000 in 2023. GDP Growth Rate in 2023 was 2.89%, representing a ...']\u001b[0m\n",
      "\u001b[32;1m\u001b[1;3m I now know the final answer\n",
      "Final Answer: The GDP of the US in 2023 is projected to be around $27.36 trillion.\u001b[0m\n",
      "\n",
      "\u001b[1m> Finished chain.\u001b[0m\n"
     ]
    },
    {
     "data": {
      "text/plain": [
       "'The GDP of the US in 2023 is projected to be around $27.36 trillion.'"
      ]
     },
     "execution_count": 19,
     "metadata": {},
     "output_type": "execute_result"
    }
   ],
   "source": [
    "from langchain.agents import AgentType, initialize_agent, load_tools\n",
    "\n",
    "os.environ[\"SERPAPI_API_KEY\"] = serpapi_key\n",
    "\n",
    "tools = load_tools([\"serpapi\"],llm=llm)\n",
    "                   \n",
    "agent = initialize_agent(tools, llm, agent=AgentType.ZERO_SHOT_REACT_DESCRIPTION, verbose=True)\n",
    "                   \n",
    "agent.run(\"What is GDP of US in 2023?\")"
   ]
  },
  {
   "cell_type": "code",
   "execution_count": 20,
   "metadata": {},
   "outputs": [
    {
     "name": "stdout",
     "output_type": "stream",
     "text": [
      "\n",
      "\n",
      "It is not possible to accurately predict the GDP of the US in 2024. Economic factors, policies, and events can greatly impact the country's GDP over the next few years. The GDP for 2024 will only be known once the year has passed.\n"
     ]
    }
   ],
   "source": [
    "output = llm.invoke(\"What is GDP of US in 2024?\")\n",
    "print(output)"
   ]
  },
  {
   "cell_type": "code",
   "execution_count": 21,
   "metadata": {},
   "outputs": [
    {
     "name": "stdout",
     "output_type": "stream",
     "text": [
      "\n",
      "\n",
      "\u001b[1m> Entering new AgentExecutor chain...\u001b[0m\n",
      "\u001b[32;1m\u001b[1;3m I should think about using a reliable source for current GDP information\n",
      "Action: Search\n",
      "Action Input: \"GDP of US 2025\"\u001b[0m\n",
      "Observation: \u001b[36;1m\u001b[1;3m['Real gross domestic product (GDP) increased at an annual rate of 3.0 percent in the second quarter of 2025 (April, May, and June), according to ...', 'From Q1 2025 to Q2 2025: Real GDP increased by 3.29 percent annualized. Current-dollar nominal GDP increased by 5.33 percent annualized, or $391.855 billion ...', 'Real gross domestic product (GDP) increased at an annual rate of 3.3 percent in the second quarter of 2025 (April, May, and June), according to ...', 'Economy of the United States · Increase $30.507 trillion (nominal; 2025) · Increase $30.507 trillion (PPP; 2025).', 'We expect real GDP growth of 1.5% and 1.3% in 2025 and 2026, respectively, with Q4 2025 growth slowing to a mere 0.8% y/y. While the probability of a recession ...', \"World Economics estimates United States's 2025 GDP at $27.615 trillion in PPP terms (Purchasing Power Parity) and an initial estimate of $28.195 trillion for ...\", 'The GDPNow model estimate for real GDP growth (seasonally adjusted annual rate) in the third quarter of 2025 is 3.1 percent on September 10, up from 3.0 percent ...', 'The US economy shrank faster than previously thought during the first three months of 2025, with growth contracting for the first time in three years.']\u001b[0m\n",
      "\u001b[32;1m\u001b[1;3m I should look through the different results and compare them to find the most reliable information\n",
      "Action: Search\n",
      "Action Input: \"GDP of US 2025\"\u001b[0m\n",
      "Observation: \u001b[36;1m\u001b[1;3m['Real gross domestic product (GDP) increased at an annual rate of 3.0 percent in the second quarter of 2025 (April, May, and June), according to ...', 'From Q1 2025 to Q2 2025: Real GDP increased by 3.29 percent annualized. Current-dollar nominal GDP increased by 5.33 percent annualized, or $391.855 billion ...', 'Real gross domestic product (GDP) increased at an annual rate of 3.3 percent in the second quarter of 2025 (April, May, and June), according to ...', 'Economy of the United States · Increase $30.507 trillion (nominal; 2025) · Increase $30.507 trillion (PPP; 2025).', 'We expect real GDP growth of 1.5% and 1.3% in 2025 and 2026, respectively, with Q4 2025 growth slowing to a mere 0.8% y/y. While the probability of a recession ...', \"World Economics estimates United States's 2025 GDP at $27.615 trillion in PPP terms (Purchasing Power Parity) and an initial estimate of $28.195 trillion for ...\", 'The GDPNow model estimate for real GDP growth (seasonally adjusted annual rate) in the third quarter of 2025 is 3.1 percent on September 10, up from 3.0 percent ...', 'The US economy shrank faster than previously thought during the first three months of 2025, with growth contracting for the first time in three years.']\u001b[0m\n",
      "\u001b[32;1m\u001b[1;3m I should also consider the credibility of the sources and any potential biases\n",
      "Action: Search\n",
      "Action Input: \"GDP of US 2025\"\u001b[0m\n",
      "Observation: \u001b[36;1m\u001b[1;3m['Real gross domestic product (GDP) increased at an annual rate of 3.0 percent in the second quarter of 2025 (April, May, and June), according to ...', 'From Q1 2025 to Q2 2025: Real GDP increased by 3.29 percent annualized. Current-dollar nominal GDP increased by 5.33 percent annualized, or $391.855 billion ...', 'Real gross domestic product (GDP) increased at an annual rate of 3.3 percent in the second quarter of 2025 (April, May, and June), according to ...', 'Economy of the United States · Increase $30.507 trillion (nominal; 2025) · Increase $30.507 trillion (PPP; 2025).', 'We expect real GDP growth of 1.5% and 1.3% in 2025 and 2026, respectively, with Q4 2025 growth slowing to a mere 0.8% y/y. While the probability of a recession ...', \"World Economics estimates United States's 2025 GDP at $27.615 trillion in PPP terms (Purchasing Power Parity) and an initial estimate of $28.195 trillion for ...\", 'The GDPNow model estimate for real GDP growth (seasonally adjusted annual rate) in the third quarter of 2025 is 3.1 percent on September 10, up from 3.0 percent ...', 'The US economy shrank faster than previously thought during the first three months of 2025, with growth contracting for the first time in three years.']\u001b[0m\n",
      "\u001b[32;1m\u001b[1;3m I now know the final answer\n",
      "Final Answer: Based on the results from my search, the GDP of the US in 2025 is estimated to be around $30.5 trillion in nominal terms and $27.6 trillion in PPP terms. However, there is also a possibility of a recession and slower growth in the fourth quarter of 2025. \u001b[0m\n",
      "\n",
      "\u001b[1m> Finished chain.\u001b[0m\n"
     ]
    },
    {
     "data": {
      "text/plain": [
       "'Based on the results from my search, the GDP of the US in 2025 is estimated to be around $30.5 trillion in nominal terms and $27.6 trillion in PPP terms. However, there is also a possibility of a recession and slower growth in the fourth quarter of 2025.'"
      ]
     },
     "execution_count": 21,
     "metadata": {},
     "output_type": "execute_result"
    }
   ],
   "source": [
    "agent.run(\"What is GDP of US in 2025?\")"
   ]
  },
  {
   "cell_type": "code",
   "execution_count": 22,
   "metadata": {},
   "outputs": [
    {
     "name": "stdout",
     "output_type": "stream",
     "text": [
      "\n",
      "\n",
      "It is impossible to accurately predict the GDP of the US in 2025 as it is influenced by many factors such as economic policies, global events, and technological advancements. However, according to the Congressional Budget Office, the US GDP is projected to reach $29.2 trillion in 2025, assuming no major changes in economic policies. \n"
     ]
    }
   ],
   "source": [
    "output = llm.invoke(\"What is GDP of US in 2025?\")\n",
    "print(output)"
   ]
  },
  {
   "cell_type": "code",
   "execution_count": null,
   "metadata": {},
   "outputs": [],
   "source": []
  }
 ],
 "metadata": {
  "colab": {
   "authorship_tag": "ABX9TyONM96f7/m0jUCD9c87+MQy",
   "include_colab_link": true,
   "provenance": []
  },
  "kernelspec": {
   "display_name": "Python [conda env:base] *",
   "language": "python",
   "name": "conda-base-py"
  },
  "language_info": {
   "codemirror_mode": {
    "name": "ipython",
    "version": 3
   },
   "file_extension": ".py",
   "mimetype": "text/x-python",
   "name": "python",
   "nbconvert_exporter": "python",
   "pygments_lexer": "ipython3",
   "version": "3.13.5"
  }
 },
 "nbformat": 4,
 "nbformat_minor": 4
}
